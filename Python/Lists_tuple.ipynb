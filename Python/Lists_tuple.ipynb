{
  "nbformat": 4,
  "nbformat_minor": 0,
  "metadata": {
    "colab": {
      "provenance": []
    },
    "kernelspec": {
      "name": "python3",
      "display_name": "Python 3"
    },
    "language_info": {
      "name": "python"
    }
  },
  "cells": [
    {
      "cell_type": "markdown",
      "source": [
        "List is collection of ordered elements.Values in list can be modified i.e. lists are mutuable.The values that make up a list are called elements,and they can be any type.\n",
        "\n",
        "\n"
      ],
      "metadata": {
        "id": "j8bkJHCGGJFE"
      }
    },
    {
      "cell_type": "code",
      "source": [
        "#list decleration\n",
        "list=[1,2,3,4,5] #list of numbers\n",
        "list2=[\"Chd\",\"Bathinda\",\"Ropar\",\"Patiala\"] #list of strings\n",
        "list3=[1,2,\"hello\",9,10]\n",
        "ll=[] #empty list\n",
        "mm=[1,2,[8,9,10],\"hii\"] #Nested list\n",
        "print(list)\n",
        "print(list2)\n",
        "print(mm)"
      ],
      "metadata": {
        "colab": {
          "base_uri": "https://localhost:8080/"
        },
        "id": "HlNQ0VyHGWJG",
        "outputId": "636f5b45-22ad-49ad-dd1f-cc211567a163"
      },
      "execution_count": null,
      "outputs": [
        {
          "output_type": "stream",
          "name": "stdout",
          "text": [
            "[1, 2, 3, 4, 5]\n",
            "['Chd', 'Bathinda', 'Ropar', 'Patiala']\n",
            "[1, 2, [8, 9, 10], 'hii']\n"
          ]
        }
      ]
    },
    {
      "cell_type": "code",
      "source": [
        "fruits=['apple','banana','orange','cherry']\n",
        "print(fruits[0])\n",
        "print(fruits[3])"
      ],
      "metadata": {
        "colab": {
          "base_uri": "https://localhost:8080/"
        },
        "id": "SYzo-nEpGbVc",
        "outputId": "21b5af01-1f66-4f9f-f014-17ee2277e1ee"
      },
      "execution_count": null,
      "outputs": [
        {
          "output_type": "stream",
          "name": "stdout",
          "text": [
            "apple\n",
            "cherry\n"
          ]
        }
      ]
    },
    {
      "cell_type": "code",
      "source": [
        "#concatenation\n",
        "print(list+list2)\n"
      ],
      "metadata": {
        "colab": {
          "base_uri": "https://localhost:8080/"
        },
        "id": "Kxr1xm6uIwxh",
        "outputId": "b243167b-c01c-4d6f-abe2-470a8278c13f"
      },
      "execution_count": null,
      "outputs": [
        {
          "output_type": "stream",
          "name": "stdout",
          "text": [
            "[1, 2, 3, 4, 5, 'Chd', 'Bathinda', 'Ropar', 'Patiala']\n"
          ]
        }
      ]
    },
    {
      "cell_type": "code",
      "source": [
        "#list slicing\n",
        "print(list[0:3])\n",
        "print(list[0:6:2])\n",
        "print(list[::-1]) #reversing the list\n",
        "print(list[-5:2])"
      ],
      "metadata": {
        "colab": {
          "base_uri": "https://localhost:8080/"
        },
        "id": "o0dO-En_I_Uo",
        "outputId": "277b8159-01b2-4087-acba-fa15ce288d6e"
      },
      "execution_count": null,
      "outputs": [
        {
          "output_type": "stream",
          "name": "stdout",
          "text": [
            "[1, 2, 3]\n",
            "[1, 3, 5]\n",
            "[5, 4, 3, 2, 1]\n",
            "[1, 2]\n"
          ]
        }
      ]
    },
    {
      "cell_type": "code",
      "source": [
        "list1=[2,3,4,5,6,7]\n",
        "list2=[2,3,4,5,6,7]\n",
        "res1=list1==list2\n",
        "print(res1)"
      ],
      "metadata": {
        "id": "I9YKdIsBJMWX",
        "colab": {
          "base_uri": "https://localhost:8080/"
        },
        "outputId": "6f4548c9-f116-4738-f1d6-0ac90ab38d3a"
      },
      "execution_count": null,
      "outputs": [
        {
          "output_type": "stream",
          "name": "stdout",
          "text": [
            "True\n"
          ]
        }
      ]
    },
    {
      "cell_type": "code",
      "source": [
        "list3=[10,3,4,5,6,10]\n",
        "res2=list1<list3  \n",
        "print(res2)\n",
        "#if any element is found greater or lesser it will give the True or False"
      ],
      "metadata": {
        "colab": {
          "base_uri": "https://localhost:8080/"
        },
        "id": "kXuYUl2eY50N",
        "outputId": "0c653d96-abb0-4035-a392-e303c8da7f33"
      },
      "execution_count": null,
      "outputs": [
        {
          "output_type": "stream",
          "name": "stdout",
          "text": [
            "True\n"
          ]
        }
      ]
    },
    {
      "cell_type": "code",
      "source": [
        "#range function can be also used to traverse the list\n",
        "# print(list(range(9)))"
      ],
      "metadata": {
        "id": "B1Og3RAoZV-K"
      },
      "execution_count": null,
      "outputs": []
    },
    {
      "cell_type": "markdown",
      "source": [
        "##List Functions\n",
        "\n",
        "len() , count() , append() , insert() , extend() , pop() , del() , sort() , clear() , max(list) , min(list) , clear()"
      ],
      "metadata": {
        "id": "_16Ny_ejbKMs"
      }
    },
    {
      "cell_type": "code",
      "source": [
        "l=[2,4,67,8,4,0,8,9,12,23,45,67,77,2,2]\n",
        "list2=[0,1,2,3,4,5]\n",
        "print(len(l))\n",
        "print(l.count(2)) #count the occurence of a element in a list\n",
        "l.append(list2) #append function will add the new list as a nested list\n",
        "print(\"After appending list will be:\",l)\n",
        "l.extend(list2)  #extend function will add the new list as a new list elements\n",
        "print(\"After extending list will be:\",l)\n",
        "l.insert(0,4) #insert(index,value)\n",
        "print(\"After using insert function:\",l)\n",
        "print(l.pop()) #remove the element from the end\n",
        "print(l.pop(1)) #remove the element at index 1\n",
        "print(l)\n",
        "del(l[1:10])  #slicing can be used to del the elements \n",
        "print(l)  #can delete multiple elements at one time\n",
        "l3=[1,9,7,5,0,4,2]\n",
        "l3.sort()\n",
        "print(\"Sorted list:\",l3)\n",
        "l3.sort(reverse=True)\n",
        "print(\"Sorted list in reverse order:\",l3)"
      ],
      "metadata": {
        "colab": {
          "base_uri": "https://localhost:8080/"
        },
        "id": "KkWWTytlaTCv",
        "outputId": "171d18ad-69ee-41bc-a2cf-2b82875d8eec"
      },
      "execution_count": null,
      "outputs": [
        {
          "output_type": "stream",
          "name": "stdout",
          "text": [
            "15\n",
            "3\n",
            "After appending list will be: [2, 4, 67, 8, 4, 0, 8, 9, 12, 23, 45, 67, 77, 2, 2, [0, 1, 2, 3, 4, 5]]\n",
            "After extending list will be: [2, 4, 67, 8, 4, 0, 8, 9, 12, 23, 45, 67, 77, 2, 2, [0, 1, 2, 3, 4, 5], 0, 1, 2, 3, 4, 5]\n",
            "After using insert function: [4, 2, 4, 67, 8, 4, 0, 8, 9, 12, 23, 45, 67, 77, 2, 2, [0, 1, 2, 3, 4, 5], 0, 1, 2, 3, 4, 5]\n",
            "5\n",
            "2\n",
            "[4, 4, 67, 8, 4, 0, 8, 9, 12, 23, 45, 67, 77, 2, 2, [0, 1, 2, 3, 4, 5], 0, 1, 2, 3, 4]\n",
            "[4, 45, 67, 77, 2, 2, [0, 1, 2, 3, 4, 5], 0, 1, 2, 3, 4]\n",
            "Sorted list: [0, 1, 2, 4, 5, 7, 9]\n",
            "Sorted list in reverse order: [9, 7, 5, 4, 2, 1, 0]\n"
          ]
        }
      ]
    },
    {
      "cell_type": "code",
      "source": [
        "print(max(l3))\n",
        "print(min(l3))\n",
        "l3.clear() #it will not delete the list.it just clear all the elements of the list and return empty list\n",
        "print(l3)"
      ],
      "metadata": {
        "colab": {
          "base_uri": "https://localhost:8080/"
        },
        "id": "vOpXwbM_bsNo",
        "outputId": "f58d405f-6812-482d-f1af-640b31f7450f"
      },
      "execution_count": null,
      "outputs": [
        {
          "output_type": "stream",
          "name": "stdout",
          "text": [
            "9\n",
            "0\n",
            "[]\n"
          ]
        }
      ]
    },
    {
      "cell_type": "markdown",
      "source": [
        "#**List Comprehension**\n"
      ],
      "metadata": {
        "id": "4sA2EUiLlXKw"
      }
    },
    {
      "cell_type": "code",
      "source": [
        "nums=[-1,25,9,-30,5]\n",
        "\n",
        "pos=[i for i in nums if i>0]\n",
        "print(pos)\n",
        "\n",
        "res=[i for i in nums if i<0]\n",
        "print(res)\n",
        "\n",
        "#sum of positive elements of list\n",
        "sum=0\n",
        "for i in pos:\n",
        "  sum=i+sum\n",
        "print(\"sum:\",sum)\n",
        "\n",
        "abspairs=[(x,abs(x)) for x in nums if x<0]\n",
        "print(abspairs)"
      ],
      "metadata": {
        "colab": {
          "base_uri": "https://localhost:8080/"
        },
        "id": "uqB6IIt4lelY",
        "outputId": "f7ea32ec-fe43-46d7-92f2-d09ae617349a"
      },
      "execution_count": null,
      "outputs": [
        {
          "output_type": "stream",
          "name": "stdout",
          "text": [
            "[25, 9, 5]\n",
            "[-1, -30]\n",
            "sum: 39\n",
            "[(-1, 1), (-30, 30)]\n"
          ]
        }
      ]
    },
    {
      "cell_type": "code",
      "source": [
        "rers=[x*4 for x in 'spam']\n",
        "rers"
      ],
      "metadata": {
        "colab": {
          "base_uri": "https://localhost:8080/"
        },
        "id": "UA_FJ3mxLND-",
        "outputId": "454d22ec-7938-467c-a8ef-8096a30a587b"
      },
      "execution_count": null,
      "outputs": [
        {
          "output_type": "execute_result",
          "data": {
            "text/plain": [
              "['ssss', 'pppp', 'aaaa', 'mmmm']"
            ]
          },
          "metadata": {},
          "execution_count": 1
        }
      ]
    },
    {
      "cell_type": "code",
      "source": [
        "vec1=[11,2,4]\n",
        "vec2=[6,1,2]\n",
        "\n",
        "#cross product of two lists using comprehension\n",
        "vec3=[x*y for x in vec1 for y in vec2]\n",
        "print(vec3)\n",
        "\n",
        "# cross addition of elements of two lists\n",
        "add=[x+y for x in vec1 for y in vec2]\n",
        "print(add)\n",
        "\n",
        "#addition of elements of list\n",
        "add2=[vec1[i]+vec2[i] for i in range(len(vec1))]  #we add using the index of the list elements\n",
        "print(add2)\n",
        "\n",
        "#multiplication of elements of list\n",
        "mul=[vec1[i]*vec2[i] for i in range(len(vec1))]\n",
        "print(mul)\n",
        "\n"
      ],
      "metadata": {
        "colab": {
          "base_uri": "https://localhost:8080/"
        },
        "id": "2d0WCGsslez1",
        "outputId": "ce14764d-8b33-4e11-d413-3831ac29f8b3"
      },
      "execution_count": null,
      "outputs": [
        {
          "output_type": "stream",
          "name": "stdout",
          "text": [
            "[66, 11, 22, 12, 2, 4, 24, 4, 8]\n",
            "[17, 12, 13, 8, 3, 4, 10, 5, 6]\n",
            "[17, 3, 6]\n",
            "[66, 2, 8]\n"
          ]
        }
      ]
    },
    {
      "cell_type": "code",
      "source": [
        "# Mutiplying the elements of the list by 3 \n",
        "l=[2,3,4,5,6,7,8]\n",
        "l2=[x*3 for x in l]\n",
        "print(\"With comprehension\",l2)\n",
        "\n",
        "# Without comprehension\n",
        "l3=[]\n",
        "i=0\n",
        "for x in l:\n",
        "  i=x*3\n",
        "  l3.append(i)\n",
        "print(\"Without comprehension:\",l3)  "
      ],
      "metadata": {
        "colab": {
          "base_uri": "https://localhost:8080/"
        },
        "id": "jMf_MEXGO93B",
        "outputId": "a1875428-0ef4-40c1-bf03-00e7d0754af8"
      },
      "execution_count": null,
      "outputs": [
        {
          "output_type": "stream",
          "name": "stdout",
          "text": [
            "With comprehension [6, 9, 12, 15, 18, 21, 24]\n",
            "Without comprehension: [6, 9, 12, 15, 18, 21, 24]\n"
          ]
        }
      ]
    },
    {
      "cell_type": "code",
      "source": [
        "# Concept of copy element\n",
        "vehicle=[\"car\",\"cycle\",\"bike\",\"activa\",\"bus\"]\n",
        "new_vehicle=vehicle\n",
        "new_vehicle[0]=\"\" #it will automatically update this value in vehcile variable as they are pointing to the same object\n",
        "print(vehicle)"
      ],
      "metadata": {
        "id": "9QQ7xcCBlfB_",
        "colab": {
          "base_uri": "https://localhost:8080/"
        },
        "outputId": "1d87b415-7f15-4df0-9482-c7349891c8d4"
      },
      "execution_count": null,
      "outputs": [
        {
          "output_type": "stream",
          "name": "stdout",
          "text": [
            "['Car', 'cycle', 'bike', 'activa', 'bus']\n"
          ]
        }
      ]
    },
    {
      "cell_type": "code",
      "source": [
        "# We can iterate the list elements using two methods\n",
        "vehicle=[\"car\",\"bike\",\"motercycle\"]\n",
        "for i in vehicle:\n",
        "  print(i,end=\" \")\n",
        "for i in range(len(vehicle)):\n",
        "  print(vehicle[i],end=\" \")\n",
        "    \n"
      ],
      "metadata": {
        "colab": {
          "base_uri": "https://localhost:8080/"
        },
        "id": "YdtJMAgAPxWQ",
        "outputId": "3a090b38-cc6d-4409-99fe-3acdb6f68518"
      },
      "execution_count": null,
      "outputs": [
        {
          "output_type": "stream",
          "name": "stdout",
          "text": [
            "car bike motercycle car bike motercycle "
          ]
        }
      ]
    },
    {
      "cell_type": "code",
      "source": [
        "#Program to input the list elements as per the count and then find the sum of the elements\n",
        "n=int(input(\"Enter the number of elements:\"))\n",
        "sum=0\n",
        "l=[]\n",
        "for i in range(0,n):\n",
        "  ele=int(input())\n",
        "  l.append(ele)\n",
        "print(\"The list values are:\",l)\n",
        "for i in l:\n",
        "  sum+=i\n",
        "print(\"The sum of the elements of a list:\",sum)    "
      ],
      "metadata": {
        "id": "8B6H7NfigNZl",
        "colab": {
          "base_uri": "https://localhost:8080/"
        },
        "outputId": "01d430e7-f889-4a2c-d497-c18f1b7e270e"
      },
      "execution_count": null,
      "outputs": [
        {
          "output_type": "stream",
          "name": "stdout",
          "text": [
            "Enter the number of elements:5\n",
            "10\n",
            "9\n",
            "8\n",
            "9\n",
            "10\n",
            "The list values are: [10, 9, 8, 9, 10]\n",
            "The sum of the elements of a list: 46\n"
          ]
        }
      ]
    },
    {
      "cell_type": "code",
      "source": [
        "#program to find the middle element in random a sorted list\n",
        "n=int(input(\"Enter the number of elements:\"))\n",
        "l=[]\n",
        "for i in range(0,n):\n",
        "  ele=int(input())\n",
        "  l.append(ele)\n",
        "l.sort()\n",
        "i=len(l)//2 \n",
        "print(\"Sorted list:\",l)\n",
        "print(\"Middle element is:\",l[i]) "
      ],
      "metadata": {
        "colab": {
          "base_uri": "https://localhost:8080/"
        },
        "id": "N6nCiN2hjytC",
        "outputId": "3aa04ec8-e10b-4f5a-d324-e169ce79e588"
      },
      "execution_count": null,
      "outputs": [
        {
          "output_type": "stream",
          "name": "stdout",
          "text": [
            "Enter the number of elements:5\n",
            "1\n",
            "2\n",
            "8\n",
            "4\n",
            "5\n",
            "Sorted list: [1, 2, 4, 5, 8]\n",
            "Middle element is: 4\n"
          ]
        }
      ]
    },
    {
      "cell_type": "code",
      "source": [
        "#add a pair(x,y) in a list for x in list1 its square y in list2\n",
        "list1=[1,2,8,6,3,9]\n",
        "list2=[1,9,64,81]\n",
        "list3=[(i,j) for i in list1 for j in list2 if i*i==j]\n",
        "print(list3)\n",
        "\n",
        "#without comprehension\n",
        "list4=[]\n",
        "for i in list1:\n",
        "  for j in list2:\n",
        "    if i*i==j:\n",
        "      list4.append((i,j))\n",
        "print(list4)    "
      ],
      "metadata": {
        "colab": {
          "base_uri": "https://localhost:8080/"
        },
        "id": "tjLhWOWbkOFW",
        "outputId": "7b2b3590-416f-4bc8-e596-157f2af88790"
      },
      "execution_count": null,
      "outputs": [
        {
          "output_type": "stream",
          "name": "stdout",
          "text": [
            "[(1, 1), (8, 64), (3, 9), (9, 81)]\n",
            "[(1, 1), (8, 64), (3, 9), (9, 81)]\n"
          ]
        }
      ]
    },
    {
      "cell_type": "code",
      "source": [
        "#Enter the marks of the students and display info using dictionary\n",
        "n=int(input(\"Enter the number of records\"))\n",
        "dic={}\n",
        "l=[]\n",
        "for i in range(0,n):\n",
        "  i=input(\"Enter the name:\")\n",
        "  dic[i]=int(input(\"English marks\"))\n",
        "print(dic)    "
      ],
      "metadata": {
        "id": "l4JwKZTYniWD",
        "colab": {
          "base_uri": "https://localhost:8080/"
        },
        "outputId": "308aed22-adbd-400e-d2ac-eb37dc5136df"
      },
      "execution_count": null,
      "outputs": [
        {
          "output_type": "stream",
          "name": "stdout",
          "text": [
            "Enter the number of records3\n",
            "Enter the name:Tashu Bansal\n",
            "English marks97\n",
            "Enter the name:Hitesh Kumar\n",
            "English marks95\n",
            "Enter the name:Navneet Kaur\n",
            "English marks98\n",
            "{'Tashu Bansal': 97, 'Hitesh Kumar': 95, 'Navneet Kaur': 98}\n"
          ]
        }
      ]
    },
    {
      "cell_type": "code",
      "source": [
        "n=int(input(\"Enter the number of records\"))\n",
        "dic={}\n",
        "for i in range(0,n):\n",
        "  i=input(\"Enter the name:\")\n",
        "  print(\"Enter the marks:\")\n",
        "  l=[]\n",
        "  for j in range(0,2):\n",
        "    x=int(input())\n",
        "    l.append(x)\n",
        "  dic[i]=list(l)  \n",
        "print(dic) "
      ],
      "metadata": {
        "colab": {
          "base_uri": "https://localhost:8080/"
        },
        "id": "EbVDrcvvR8DE",
        "outputId": "84e3e66a-3dd7-430a-ce8e-aced454da8db"
      },
      "execution_count": null,
      "outputs": [
        {
          "output_type": "stream",
          "name": "stdout",
          "text": [
            "Enter the number of records2\n",
            "Enter the name:tashu\n",
            "Enter the marks:\n",
            "45\n",
            "89\n",
            "Enter the name:hitesh\n",
            "Enter the marks:\n",
            "67\n",
            "90\n",
            "{'tashu': [45, 89], 'hitesh': [67, 90]}\n"
          ]
        }
      ]
    },
    {
      "cell_type": "code",
      "source": [
        "dic={}\n",
        "n=int(input(\"Enter the number of records\"))\n",
        "for i in range(0,n):\n",
        "  i=input(\"Enter the name:\")\n",
        "  dic2={}\n",
        "  for m in range(0,2):\n",
        "    j=input(\"Enter subject name:\")\n",
        "    dic2[j]=int(input(\"Enter the marks:\"))\n",
        "  dic[i]=dic2\n",
        "print(dic)  "
      ],
      "metadata": {
        "colab": {
          "base_uri": "https://localhost:8080/"
        },
        "id": "UKUdnEIYU1xA",
        "outputId": "2fb62b3b-f7f9-4a5d-adfd-8a4c9d57068a"
      },
      "execution_count": null,
      "outputs": [
        {
          "output_type": "stream",
          "name": "stdout",
          "text": [
            "Enter the number of records2\n",
            "Enter the name:Tashu Bansal\n",
            "Enter subject name:Microprocessor\n",
            "Enter the marks:93\n",
            "Enter subject name:Computer Graphics\n",
            "Enter the marks:98\n",
            "Enter the name:Navneet Kaur\n",
            "Enter subject name:Microprocessor\n",
            "Enter the marks:89\n",
            "Enter subject name:Computer Graphics\n",
            "Enter the marks:90\n",
            "{'Tashu Bansal': {'Microprocessor': 93, 'Computer Graphics': 98}, 'Navneet Kaur': {'Microprocessor': 89, 'Computer Graphics': 90}}\n"
          ]
        }
      ]
    },
    {
      "cell_type": "code",
      "source": [
        "#write the comprehension code of the following:\n",
        "fruits=[\"banana\",\"apple\",\"mango\",\"grapes\"]\n",
        "newlist=[]\n",
        "for x in fruits:\n",
        "    if \"a\" in x:\n",
        "      newlist.append(x)\n",
        "print(newlist)    \n",
        "newlist2=[]\n",
        "fruits=[\"banana\",\"apple\",\"mngo\",\"grpes\",\"xyz\"]\n",
        "newlist=[x for x in fruits if 'a' in x]\n",
        "newlist2=[y for y in fruits if y[0]=='a']\n",
        "print(newlist2)\n",
        "print(newlist)"
      ],
      "metadata": {
        "colab": {
          "base_uri": "https://localhost:8080/"
        },
        "id": "oqNdtXFJW4uA",
        "outputId": "62e41e53-0e9a-4286-9b90-01728eada5f9"
      },
      "execution_count": null,
      "outputs": [
        {
          "output_type": "stream",
          "name": "stdout",
          "text": [
            "['banana', 'apple', 'mango', 'grapes']\n",
            "['apple']\n",
            "['banana', 'apple']\n"
          ]
        }
      ]
    },
    {
      "cell_type": "code",
      "source": [
        "#Sorting program\n",
        "r=0\n",
        "l=[1,8,9,5,6,7,3]\n",
        "for i in range(0,len(l)):\n",
        "  for j in range(0,len(l)-1):\n",
        "    if(l[i]<l[j]):\n",
        "      r=l[i]\n",
        "      l[i]=l[j]\n",
        "      l[j]=r\n",
        "l      "
      ],
      "metadata": {
        "id": "Qd0DuL8HamvT",
        "colab": {
          "base_uri": "https://localhost:8080/"
        },
        "outputId": "aadde91e-aa38-4edd-faaf-02f3e47c346d"
      },
      "execution_count": null,
      "outputs": [
        {
          "output_type": "execute_result",
          "data": {
            "text/plain": [
              "[1, 3, 5, 6, 7, 8, 9]"
            ]
          },
          "metadata": {},
          "execution_count": 2
        }
      ]
    },
    {
      "cell_type": "markdown",
      "source": [
        "# Tuple:-\n",
        "\n",
        "A tuple is collection of ordered elements placed in a square brackets() which is immutable i.e. we can't change the values in a tuple."
      ],
      "metadata": {
        "id": "fG1nS4z-A7KN"
      }
    },
    {
      "cell_type": "code",
      "source": [
        "# Creation of a tuple\n",
        "a=1,2,3,4,5 #without brackets\n",
        "b=1, #single element requires comma in the end\n",
        "c=1  #if we don't use the comma it will be taken as integer value\n",
        "d=(1,) #using bracket also requires comma\n",
        "e=(1,2,3,4,(9,8,7))  #nested tuple\n",
        "print(type(a))\n",
        "print(type(b))\n",
        "print(type(c))\n",
        "print(type(d))\n",
        "print(e)"
      ],
      "metadata": {
        "id": "X4kGh1k7Lnse",
        "colab": {
          "base_uri": "https://localhost:8080/"
        },
        "outputId": "28df9124-286c-4954-d007-2e6db2079c61"
      },
      "execution_count": 1,
      "outputs": [
        {
          "output_type": "stream",
          "name": "stdout",
          "text": [
            "<class 'tuple'>\n",
            "<class 'tuple'>\n",
            "<class 'int'>\n",
            "<class 'tuple'>\n",
            "(1, 2, 3, 4, (9, 8, 7))\n"
          ]
        }
      ]
    },
    {
      "cell_type": "code",
      "source": [
        "#Accessing the elements of the tuple\n",
        "for i in e:\n",
        "  print(i,end=\" \")\n",
        "print(\" \")\n",
        "for i in range(len(e)):\n",
        "  print(e[i],end=\" \") "
      ],
      "metadata": {
        "colab": {
          "base_uri": "https://localhost:8080/"
        },
        "id": "K6dRtTrIBEcQ",
        "outputId": "34c856d7-df17-4e2e-9c45-3cefcb89e691"
      },
      "execution_count": 2,
      "outputs": [
        {
          "output_type": "stream",
          "name": "stdout",
          "text": [
            "1 2 3 4 (9, 8, 7)  \n",
            "1 2 3 4 (9, 8, 7) "
          ]
        }
      ]
    },
    {
      "cell_type": "markdown",
      "source": [
        "##**Tuple Functions:**:\n",
        "\n",
        "---\n",
        "\n",
        "len() , count() , max() , min() , index() , sorted() , cmp()\n",
        "\n",
        "cmp()-->It will compare the two tuples and return 0 if both are same , -1 if first is greater than the second one and 1 if second is greater than first "
      ],
      "metadata": {
        "id": "uacnA0m7BMDP"
      }
    },
    {
      "cell_type": "code",
      "source": [
        "t=(1,2,2,3,45,9,2,6,5,7)\n",
        "t1=(9,8)\n",
        "print(len(t))\n",
        "print(t.count(2))\n",
        "print(max(t))\n",
        "print(min(t))\n",
        "print(sorted(t)) #will return the result as a result\n",
        "print(t.index(5)) #return the index where the element is present\n",
        "# print(t.index(10))--->Gives an error if ele is not present in a tuple\n",
        "# print(cmp(t,t1)) --->Not Working"
      ],
      "metadata": {
        "colab": {
          "base_uri": "https://localhost:8080/"
        },
        "id": "w44DBLOCBQBm",
        "outputId": "a14b4595-c33d-43dc-9882-e0157d5e5773"
      },
      "execution_count": 3,
      "outputs": [
        {
          "output_type": "stream",
          "name": "stdout",
          "text": [
            "10\n",
            "3\n",
            "45\n",
            "1\n",
            "[1, 2, 2, 2, 3, 5, 6, 7, 9, 45]\n",
            "8\n"
          ]
        }
      ]
    },
    {
      "cell_type": "code",
      "source": [
        "#tuple addition\n",
        "t1=(1,2,3,4)\n",
        "t2=(5,6,7,8,9)\n",
        "print(t1+t2)\n",
        "print(t1*2) #doubling the number of elements\n",
        "for i in t1:\n",
        "  print(i*2,end=\" \") #multiplying the elements of a tuple\n",
        "\n",
        "#Changing the element of the tuple t1[0]=23  -->Gives an error\n",
        "# del t1[4]  -->Error('Tuple' object doesn't support the item deletion)\n",
        "\n",
        "del t1 #this will be executed and the tuple will be deleted\n",
        "\n",
        "#print(t1) -->it will show error as it is deleted"
      ],
      "metadata": {
        "colab": {
          "base_uri": "https://localhost:8080/"
        },
        "id": "8o6Qb6PiBS_n",
        "outputId": "beddd92d-ea3f-4da7-cfed-4ccd0394bdef"
      },
      "execution_count": 5,
      "outputs": [
        {
          "output_type": "stream",
          "name": "stdout",
          "text": [
            "(1, 2, 3, 4, 5, 6, 7, 8, 9)\n",
            "(1, 2, 3, 4, 1, 2, 3, 4)\n",
            "2 4 6 8 "
          ]
        }
      ]
    },
    {
      "cell_type": "code",
      "source": [
        "#tuple slicing\n",
        "t=1,2,3,4,5,6,7,8,9\n",
        "print(t[:])\n",
        "print(t[0:4])\n",
        "print(t[2:8:2])\n",
        "print(t[::-1]) #reversing"
      ],
      "metadata": {
        "colab": {
          "base_uri": "https://localhost:8080/"
        },
        "id": "PbSdc7AXBWDX",
        "outputId": "9fbb68a6-681a-42ac-f2eb-4b7dde13fc9b"
      },
      "execution_count": 6,
      "outputs": [
        {
          "output_type": "stream",
          "name": "stdout",
          "text": [
            "(1, 2, 3, 4, 5, 6, 7, 8, 9)\n",
            "(1, 2, 3, 4)\n",
            "(3, 5, 7)\n",
            "(9, 8, 7, 6, 5, 4, 3, 2, 1)\n"
          ]
        }
      ]
    },
    {
      "cell_type": "code",
      "source": [
        "#Example of a tuple and a list\n",
        "indoor=['carrom','table-tennis','badminton']\n",
        "outdoor=['football','cricket']\n",
        "games=(indoor,outdoor)\n",
        "print(games)\n",
        "games[0][1]=='table-tennis'"
      ],
      "metadata": {
        "colab": {
          "base_uri": "https://localhost:8080/"
        },
        "id": "Fc4QIw1WB2Ao",
        "outputId": "42492089-f917-4686-db49-af04ad70b8ed"
      },
      "execution_count": 7,
      "outputs": [
        {
          "output_type": "stream",
          "name": "stdout",
          "text": [
            "(['carrom', 'table-tennis', 'badminton'], ['football', 'cricket'])\n"
          ]
        },
        {
          "output_type": "execute_result",
          "data": {
            "text/plain": [
              "True"
            ]
          },
          "metadata": {},
          "execution_count": 7
        }
      ]
    },
    {
      "cell_type": "code",
      "source": [
        "cards=['hearts','freecall','solitaire']\n",
        "# games[0]=cards -->gives an error as tuple is immutable\n",
        "\n",
        "#let us create a another tuple\n",
        "games1=(indoor,outdoor,cards)\n",
        "print(games1)\n",
        "games1[0:2]==games"
      ],
      "metadata": {
        "colab": {
          "base_uri": "https://localhost:8080/"
        },
        "id": "iosbJXUWB3ML",
        "outputId": "29f6d718-d398-4999-d912-a831d68d98eb"
      },
      "execution_count": 8,
      "outputs": [
        {
          "output_type": "stream",
          "name": "stdout",
          "text": [
            "(['carrom', 'table-tennis', 'badminton'], ['football', 'cricket'], ['hearts', 'freecall', 'solitaire'])\n"
          ]
        },
        {
          "output_type": "execute_result",
          "data": {
            "text/plain": [
              "True"
            ]
          },
          "metadata": {},
          "execution_count": 8
        }
      ]
    },
    {
      "cell_type": "code",
      "source": [
        "outdoor[0]='hockey' #lists are mutuable\n",
        "print(games)  \n",
        "\n",
        "#it is concluded that as tuples are immutable but then also we are able to change its value with the help of the lists"
      ],
      "metadata": {
        "colab": {
          "base_uri": "https://localhost:8080/"
        },
        "id": "mpfFRHXmB6Vs",
        "outputId": "af5d93b5-2d3a-4277-df88-023d1740549f"
      },
      "execution_count": 9,
      "outputs": [
        {
          "output_type": "stream",
          "name": "stdout",
          "text": [
            "(['carrom', 'table-tennis', 'badminton'], ['hockey', 'cricket'])\n"
          ]
        }
      ]
    },
    {
      "cell_type": "code",
      "source": [],
      "metadata": {
        "id": "WchmkZGBB_fr"
      },
      "execution_count": null,
      "outputs": []
    }
  ]
}