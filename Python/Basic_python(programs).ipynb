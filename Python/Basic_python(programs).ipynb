{
  "nbformat": 4,
  "nbformat_minor": 0,
  "metadata": {
    "colab": {
      "provenance": []
    },
    "kernelspec": {
      "name": "python3",
      "display_name": "Python 3"
    },
    "language_info": {
      "name": "python"
    }
  },
  "cells": [
    {
      "cell_type": "code",
      "execution_count": 1,
      "metadata": {
        "colab": {
          "base_uri": "https://localhost:8080/",
          "height": 0
        },
        "id": "pdzrd68FhDEa",
        "outputId": "8a1552eb-bc79-4a30-c6ed-e844af168d16"
      },
      "outputs": [
        {
          "output_type": "stream",
          "name": "stdout",
          "text": [
            "hello world\n"
          ]
        }
      ],
      "source": [
        "# Basic python program to print anything on the screen.\n",
        "print(\"hello world\")"
      ]
    },
    {
      "cell_type": "code",
      "source": [
        "# Creating variables and printing it\n",
        "a=2\n",
        "print(a)"
      ],
      "metadata": {
        "colab": {
          "base_uri": "https://localhost:8080/",
          "height": 0
        },
        "id": "ZGGCq-0wnCn7",
        "outputId": "35e59a53-3d78-42e7-c7f6-8037a316dc04"
      },
      "execution_count": 2,
      "outputs": [
        {
          "output_type": "stream",
          "name": "stdout",
          "text": [
            "2\n"
          ]
        }
      ]
    },
    {
      "cell_type": "code",
      "source": [
        "# To get the type of the object\n",
        "type(a)"
      ],
      "metadata": {
        "colab": {
          "base_uri": "https://localhost:8080/",
          "height": 0
        },
        "id": "Z9LwlanYnIgb",
        "outputId": "382f39d2-d402-4b5e-8940-2236140a5d66"
      },
      "execution_count": 3,
      "outputs": [
        {
          "output_type": "execute_result",
          "data": {
            "text/plain": [
              "int"
            ]
          },
          "metadata": {},
          "execution_count": 3
        }
      ]
    },
    {
      "cell_type": "code",
      "source": [
        "# Typecasting:- Changing the type of the object. Example:- The above object created is of type \"int\", let's convert it into type \"string\" and see the output.\n",
        "a=str(a)\n",
        "print(a)\n",
        "print(type(a))"
      ],
      "metadata": {
        "colab": {
          "base_uri": "https://localhost:8080/",
          "height": 0
        },
        "id": "aqBwgrSUnOg6",
        "outputId": "cd536cae-1061-4488-90fd-ff1b4cdd90ff"
      },
      "execution_count": 4,
      "outputs": [
        {
          "output_type": "stream",
          "name": "stdout",
          "text": [
            "2\n",
            "<class 'str'>\n"
          ]
        }
      ]
    },
    {
      "cell_type": "code",
      "source": [
        "# To get the input from the user \"input()\" method is used.\n",
        "user_input=input(\"Enter the number:\")\n",
        "print(user_input)"
      ],
      "metadata": {
        "colab": {
          "base_uri": "https://localhost:8080/",
          "height": 0
        },
        "id": "S3Ky0tzOnlqe",
        "outputId": "b2851b8a-2625-4515-eb51-f501ba692ed6"
      },
      "execution_count": 5,
      "outputs": [
        {
          "output_type": "stream",
          "name": "stdout",
          "text": [
            "Enter the number:3\n",
            "3\n"
          ]
        }
      ]
    },
    {
      "cell_type": "code",
      "source": [
        "#Program to swap two numbers using third number:-\n",
        "num1=int(input(\"Enter the first number:\"))\n",
        "num2=int(input(\"Enter the second number:\"))\n",
        "temp=num1\n",
        "num1=num2\n",
        "num2=temp\n",
        "print(\"After swaping the numbers are:\")\n",
        "print(\"num1:\",num1)\n",
        "print(\"num2:\",num2)"
      ],
      "metadata": {
        "colab": {
          "base_uri": "https://localhost:8080/",
          "height": 0
        },
        "id": "o1Mn4FOVhNv1",
        "outputId": "348bcc33-4887-4d60-d888-3c16589a068a"
      },
      "execution_count": 6,
      "outputs": [
        {
          "output_type": "stream",
          "name": "stdout",
          "text": [
            "Enter the first number:23\n",
            "Enter the second number:12\n",
            "After swaping the numbers are:\n",
            "num1: 12\n",
            "num2: 23\n"
          ]
        }
      ]
    },
    {
      "cell_type": "code",
      "source": [
        "#Program to calculate the simple interest\n",
        "P=int(input(\"Enter the principal amount:\"))\n",
        "R=int(input(\"Enter the annual rate interest:\"))\n",
        "T=int(input(\"Enter the time(in years):\"))\n",
        "SI=(P*R*T)/100 #Formula for calculating the interest.\n",
        "print(\"The Simple Interest is:\",SI)"
      ],
      "metadata": {
        "colab": {
          "base_uri": "https://localhost:8080/",
          "height": 0
        },
        "id": "fggPbew6mbmU",
        "outputId": "133fb0e6-97ec-4891-ba0f-f094fd6682e4"
      },
      "execution_count": 7,
      "outputs": [
        {
          "output_type": "stream",
          "name": "stdout",
          "text": [
            "Enter the principal amount:2000\n",
            "Enter the annual rate interest:10\n",
            "Enter the time(in years):2\n",
            "The Simple Interest is: 400.0\n"
          ]
        }
      ]
    },
    {
      "cell_type": "code",
      "source": [
        "#Calculating the selling price and discount\n",
        "SP=int(input(\"Enter the Selling Price:\"))\n",
        "D=int(input(\"Enter the Discount(in percent)\"))\n",
        "DA=(D/100)*SP\n",
        "FP=SP-DA\n",
        "print(\"The final price of the product is:\",FP)"
      ],
      "metadata": {
        "colab": {
          "base_uri": "https://localhost:8080/",
          "height": 0
        },
        "id": "LmVLZbpeoInV",
        "outputId": "d15a34f0-82a5-45c0-a5fc-9e47fb03f69f"
      },
      "execution_count": 8,
      "outputs": [
        {
          "output_type": "stream",
          "name": "stdout",
          "text": [
            "Enter the Selling Price:2000\n",
            "Enter the Discount(in percent)10\n",
            "The final price of the product is: 1800.0\n"
          ]
        }
      ]
    },
    {
      "cell_type": "code",
      "source": [
        "#Calculate the net salary\n",
        "BP=int(input(\"Enter the BP =\"))\n",
        "print(\"HRA is 20% of BP\")\n",
        "HRA=(20/100)*BP\n",
        "print(HRA)\n",
        "print(\"DA is 90% of BP\")\n",
        "DA=(90/100)*BP\n",
        "print(DA)\n",
        "print(\"PF is 10% of BP\")\n",
        "PF=(10/100)*BP\n",
        "print(PF)\n",
        "print(\"NP=BP+HRA+DA-PF\")\n",
        "NP=BP+HRA+DA-PF\n",
        "print(\"Net salary is = \",NP)"
      ],
      "metadata": {
        "colab": {
          "base_uri": "https://localhost:8080/",
          "height": 0
        },
        "id": "R_N4HNpWsobJ",
        "outputId": "238985fc-216a-4429-ecee-b84d6b775136"
      },
      "execution_count": 9,
      "outputs": [
        {
          "output_type": "stream",
          "name": "stdout",
          "text": [
            "Enter the BP =10000\n",
            "HRA is 20% of BP\n",
            "2000.0\n",
            "DA is 90% of BP\n",
            "9000.0\n",
            "PF is 10% of BP\n",
            "1000.0\n",
            "NP=BP+HRA+DA-PF\n",
            "Net salary is =  20000.0\n"
          ]
        }
      ]
    },
    {
      "cell_type": "markdown",
      "source": [
        "#**Conditional statements and Loops:-**"
      ],
      "metadata": {
        "id": "8anOvuJkp3vS"
      }
    },
    {
      "cell_type": "code",
      "source": [
        "# Program to find sum of a digits in a number\n",
        "sum=0\n",
        "n=0\n",
        "num=int(input(\"Enter the number:\"))\n",
        "while(num>0):\n",
        "    n=num%10\n",
        "    sum=n+sum\n",
        "    num=num//10\n",
        "print(\"The sum of digits is\",sum)  "
      ],
      "metadata": {
        "colab": {
          "base_uri": "https://localhost:8080/"
        },
        "id": "lxuNOWVPp2qV",
        "outputId": "cd90f429-9ca0-428f-ef39-24dfdb9ed758"
      },
      "execution_count": 10,
      "outputs": [
        {
          "output_type": "stream",
          "name": "stdout",
          "text": [
            "Enter the number:10\n",
            "The sum of digits is 1\n"
          ]
        }
      ]
    },
    {
      "cell_type": "code",
      "source": [
        "#Program to find all the operators\n",
        "num1=int(input(\"Enter the first number:\"))\n",
        "num2=int(input(\"Enter the second number:\"))\n",
        "print(\"1 for +\")\n",
        "print(\"2 for -\")\n",
        "print(\"3 for *\")\n",
        "print(\"4 for /\")\n",
        "print(\"5 for //\")\n",
        "print(\"6 for ++\")\n",
        "print(\"7 for --\")\n",
        "print(\"8 for **\") #power operator\n",
        "print(\"9 for %\")  #modulus operator\n",
        " \n",
        "op=int(input(\"According to above,enter the operation you want to perform:\"))\n",
        "if op==1:\n",
        "   print(\"The + operator perform addition\")\n",
        "   print(\"The result is:\",num1+num2)\n",
        "elif op==2:\n",
        "   print(\"The - operator perform subtraction\")\n",
        "   print(\"The result is:\",num1-num2)\n",
        "elif op==3:\n",
        "   print(\"The * operator perform multiplication\")\n",
        "   print(\"The result is:\",num1*num2)\n",
        "elif op==4:\n",
        "   print(\"The / operator perform division\")\n",
        "   print(\"The result is:\",num1/num2)   \n",
        "elif op==5:\n",
        "   print(\"The // operator gives floor value\")\n",
        "   print(\"The result is:\",num1//num2)\n",
        "elif op==6:\n",
        "   print(\"The ++ is a increment operator\")\n",
        "   print(\"The result is:\",++num1,\"\",++num2)\n",
        "elif op==7:\n",
        "   print(\"The -- is a decrement operator\")\n",
        "   print(\"The result is:\",--num1,\"\",--num2)\n",
        "elif op==8:\n",
        "   print(\"The ** is raise to power operator\")\n",
        "   print(\"The result is:\",num1**num2)\n",
        "elif op==9:\n",
        "   print(\"The % is a modulus operator\")\n",
        "   print(\"The result is:\",num1%num2)\n",
        "else:\n",
        "  print(\"Invalid Input\")   "
      ],
      "metadata": {
        "id": "Uk435_Ky0EvN",
        "colab": {
          "base_uri": "https://localhost:8080/"
        },
        "outputId": "8fcd6f8a-1891-4f06-a67d-44d95e3b0f56"
      },
      "execution_count": 13,
      "outputs": [
        {
          "output_type": "stream",
          "name": "stdout",
          "text": [
            "Enter the first number:12\n",
            "Enter the second number:78\n",
            "1 for +\n",
            "2 for -\n",
            "3 for *\n",
            "4 for /\n",
            "5 for //\n",
            "6 for ++\n",
            "7 for --\n",
            "8 for **\n",
            "9 for %\n",
            "According to above,enter the operation you want to perform:5\n",
            "The // operator gives floor value\n",
            "The result is: 0\n"
          ]
        }
      ]
    },
    {
      "cell_type": "code",
      "source": [
        "#program to find whether a number is armstrong is not\n",
        "sum=0\n",
        "n=0\n",
        "num=int(input(\"Enter the number:\"))\n",
        "temp=num\n",
        "while(temp>0):\n",
        "    n=temp%10\n",
        "    sum=(n**3)+sum\n",
        "    temp=temp//10\n",
        "if(sum==num):\n",
        "  print(\"THe number is armstrong\")\n",
        "else:\n",
        "  print(\"The number is not armstrong\") "
      ],
      "metadata": {
        "colab": {
          "base_uri": "https://localhost:8080/"
        },
        "id": "R4rU2ih2qlyx",
        "outputId": "cacf6d70-f458-45c5-b7b7-661d1ad0d6cb"
      },
      "execution_count": 14,
      "outputs": [
        {
          "output_type": "stream",
          "name": "stdout",
          "text": [
            "Enter the number:233\n",
            "The number is not armstrong\n"
          ]
        }
      ]
    },
    {
      "cell_type": "code",
      "source": [
        "#program to find the grades\n",
        "eng=int(input(\"Enter the marks of English\"))\n",
        "math=int(input(\"Enter the marks of Maths\"))\n",
        "sci=int(input(\"Enter the marks of Science\"))\n",
        "per=((eng+math+sci)/300)*100\n",
        "print(\"The Percentage is\",per,\"%\")\n",
        "if(per>80):\n",
        "  print(\"The Grade is A\")\n",
        "elif(per>=60):\n",
        "  print(\"The Grade is B\")\n",
        "elif(per>=40):\n",
        "  print(\"The Grade is C\")\n",
        "else:\n",
        "  print(\"The Grade is D\")  "
      ],
      "metadata": {
        "colab": {
          "base_uri": "https://localhost:8080/"
        },
        "id": "yXiZt5t7rICZ",
        "outputId": "6ea68e05-e0f3-4ed4-ebbf-18ce7db615a1"
      },
      "execution_count": 15,
      "outputs": [
        {
          "output_type": "stream",
          "name": "stdout",
          "text": [
            "Enter the marks of English89\n",
            "Enter the marks of Maths76\n",
            "Enter the marks of Science34\n",
            "The Percentage is 66.33333333333333 %\n",
            "The Grade is B\n"
          ]
        }
      ]
    },
    {
      "cell_type": "code",
      "source": [
        "# Read numbers from the user until user enters -1 and find the maximum number from them.\n",
        "num=0\n",
        "max=0\n",
        "while(num!=-1):\n",
        "  num=int(input())\n",
        "  if(max<num):\n",
        "    max=num\n",
        "print(\"The maximum number is\",max) "
      ],
      "metadata": {
        "colab": {
          "base_uri": "https://localhost:8080/"
        },
        "id": "nrFleIxcrPwa",
        "outputId": "236824cb-aeee-421c-e90b-e232c6daa48b"
      },
      "execution_count": 16,
      "outputs": [
        {
          "output_type": "stream",
          "name": "stdout",
          "text": [
            "2\n",
            "3\n",
            "89\n",
            "65\n",
            "-1\n",
            "The maximum number is 89\n"
          ]
        }
      ]
    },
    {
      "cell_type": "code",
      "source": [
        "even=0\n",
        "odd=0\n",
        "for i in range(21):\n",
        "  if(i%2==0):\n",
        "    even+=i\n",
        "  else:\n",
        "    odd+=i \n",
        "print(\"Sum of even number is\",even)    \n",
        "print(\"Sum of odd number is\",odd)"
      ],
      "metadata": {
        "colab": {
          "base_uri": "https://localhost:8080/"
        },
        "id": "elKFBfEDrTch",
        "outputId": "ac0400cc-0080-4f8e-aa2e-f396d133b440"
      },
      "execution_count": 17,
      "outputs": [
        {
          "output_type": "stream",
          "name": "stdout",
          "text": [
            "Sum of even number is 110\n",
            "Sum of odd number is 100\n"
          ]
        }
      ]
    },
    {
      "cell_type": "code",
      "source": [
        "# To check whether the number is perfect or not.\n",
        "num=int(input(\"Enter the number:\"))\n",
        "sum_factors=0\n",
        "for i in range(1,num):\n",
        "    if(num%i==0):\n",
        "      sum_factors=sum_factors+i\n",
        "if(sum_factors==num):\n",
        "  print(\"Number is Perfect\")\n",
        "else:\n",
        "  print(\"Number is not Perfect\")    "
      ],
      "metadata": {
        "colab": {
          "base_uri": "https://localhost:8080/"
        },
        "id": "Q8p7dQb8rZxb",
        "outputId": "6dc91c19-1e49-4e58-9476-6ef023eaa3cb"
      },
      "execution_count": 18,
      "outputs": [
        {
          "output_type": "stream",
          "name": "stdout",
          "text": [
            "Enter the number:27\n",
            "Number is not Perfect\n"
          ]
        }
      ]
    },
    {
      "cell_type": "code",
      "source": [
        "#Range function(syntex-range(start,end,step)-->end is exclusive and step can be positive or negative)\n",
        "print(\"Decrement is 1:\")\n",
        "for i in range(0,11,1):\n",
        "  print(i,end=\" \") \n",
        "print(\"\\nDecrement is 2:\")    \n",
        "for i in range(0,11,2):\n",
        "  print(i,end=\" \")  \n",
        "print(\"\\nExample of a back loop:\")\n",
        "for i in range(10,0,-1):\n",
        "  print(i,end=\" \")  \n",
        "for i in range(4,4):  #--->prints nothing\n",
        "  print(i)  "
      ],
      "metadata": {
        "colab": {
          "base_uri": "https://localhost:8080/"
        },
        "id": "cJm21TCSrlfp",
        "outputId": "4663f66d-4eee-4ff7-aebf-fb92937d88e2"
      },
      "execution_count": 19,
      "outputs": [
        {
          "output_type": "stream",
          "name": "stdout",
          "text": [
            "Decrement is 1:\n",
            "0 1 2 3 4 5 6 7 8 9 10 \n",
            "Decrement is 2:\n",
            "0 2 4 6 8 10 \n",
            "Example of a back loop:\n",
            "10 9 8 7 6 5 4 3 2 1 "
          ]
        }
      ]
    },
    {
      "cell_type": "code",
      "source": [
        "#programn to find a factorial of a number\n",
        "fact=1\n",
        "num=int(input(\"Enter the number you want to find the factorial:\"))\n",
        "for i in range(1,num+1):\n",
        "  fact=fact*i\n",
        "print(\"Factorial of a number:\",fact)  "
      ],
      "metadata": {
        "colab": {
          "base_uri": "https://localhost:8080/"
        },
        "id": "T7EALn9irvvW",
        "outputId": "ec2bca66-bbde-4e2c-b9c0-683709958861"
      },
      "execution_count": 20,
      "outputs": [
        {
          "output_type": "stream",
          "name": "stdout",
          "text": [
            "Enter the number you want to find the factorial:7\n",
            "Factorial of a number: 5040\n"
          ]
        }
      ]
    },
    {
      "cell_type": "code",
      "source": [
        "#wap a program to generate fibonaaci series\n",
        "n=int(input(\"Enter the number of terms you want to generate:\"))\n",
        "i=0\n",
        "n1=0\n",
        "n2=1\n",
        "nth=n1+n2\n",
        "for i in range(i,n):\n",
        "    print(n1,end=\" \")\n",
        "    nth=n1+n2\n",
        "    n1=n2\n",
        "    n2=nth"
      ],
      "metadata": {
        "colab": {
          "base_uri": "https://localhost:8080/"
        },
        "id": "epUy2SNQrzXi",
        "outputId": "fb6e0fb8-2896-41a2-9681-b6a0468efae2"
      },
      "execution_count": 21,
      "outputs": [
        {
          "output_type": "stream",
          "name": "stdout",
          "text": [
            "Enter the number of terms you want to generate:10\n",
            "0 1 1 2 3 5 8 13 21 34 "
          ]
        }
      ]
    },
    {
      "cell_type": "code",
      "source": [
        "#program to print numbers from 0 to 20 anf then print those numbers which are divisible by 5\n",
        "i=0\n",
        "e=0\n",
        "for i in range(i,21):\n",
        "  print(\"The number to be displayed:\",i) \n",
        "  e=i\n",
        "  if(e%5==0):\n",
        "    print(\"Number\",e,\"is divisble\")  "
      ],
      "metadata": {
        "colab": {
          "base_uri": "https://localhost:8080/"
        },
        "id": "tv2iIF5lr4pE",
        "outputId": "1fda812b-768a-49c7-8d47-795515815b5d"
      },
      "execution_count": 22,
      "outputs": [
        {
          "output_type": "stream",
          "name": "stdout",
          "text": [
            "The number to be displayed: 0\n",
            "Number 0 is divisble\n",
            "The number to be displayed: 1\n",
            "The number to be displayed: 2\n",
            "The number to be displayed: 3\n",
            "The number to be displayed: 4\n",
            "The number to be displayed: 5\n",
            "Number 5 is divisble\n",
            "The number to be displayed: 6\n",
            "The number to be displayed: 7\n",
            "The number to be displayed: 8\n",
            "The number to be displayed: 9\n",
            "The number to be displayed: 10\n",
            "Number 10 is divisble\n",
            "The number to be displayed: 11\n",
            "The number to be displayed: 12\n",
            "The number to be displayed: 13\n",
            "The number to be displayed: 14\n",
            "The number to be displayed: 15\n",
            "Number 15 is divisble\n",
            "The number to be displayed: 16\n",
            "The number to be displayed: 17\n",
            "The number to be displayed: 18\n",
            "The number to be displayed: 19\n",
            "The number to be displayed: 20\n",
            "Number 20 is divisble\n"
          ]
        }
      ]
    },
    {
      "cell_type": "code",
      "source": [
        "#wap a program to print the patterns\n",
        "for i in range(6,0,-1):\n",
        "  for j in range(1,i+1):\n",
        "    print(i,end=' ')\n",
        "  print(\" \")  \n",
        "print(\"--------Next--------\")\n",
        "\n",
        "for i in range(1,7):\n",
        "  for j in range(1,i+1):\n",
        "    print(j,end=' ')\n",
        "  print(\" \")    "
      ],
      "metadata": {
        "colab": {
          "base_uri": "https://localhost:8080/"
        },
        "id": "7g1Y-Q-Ir8kp",
        "outputId": "126478aa-4731-481c-c17b-778638302eca"
      },
      "execution_count": 23,
      "outputs": [
        {
          "output_type": "stream",
          "name": "stdout",
          "text": [
            "6 6 6 6 6 6  \n",
            "5 5 5 5 5  \n",
            "4 4 4 4  \n",
            "3 3 3  \n",
            "2 2  \n",
            "1  \n",
            "--------Next--------\n",
            "1  \n",
            "1 2  \n",
            "1 2 3  \n",
            "1 2 3 4  \n",
            "1 2 3 4 5  \n",
            "1 2 3 4 5 6  \n"
          ]
        }
      ]
    },
    {
      "cell_type": "code",
      "source": [
        "#program to find a number is prime or composite.\n",
        "flag=0\n",
        "num=int(input(\"Enter the number:\"))\n",
        "for i in range(2,num):\n",
        "  if(num%i==0):\n",
        "    flag=1\n",
        "    break\n",
        "if(flag==1):\n",
        "  print(\"Number is composite\")\n",
        "else:\n",
        "  print(\"Number is prime\")  "
      ],
      "metadata": {
        "colab": {
          "base_uri": "https://localhost:8080/"
        },
        "id": "6a3_g1EesA4K",
        "outputId": "f0e56568-ad15-4286-9c1e-d7502eb7b605"
      },
      "execution_count": 24,
      "outputs": [
        {
          "output_type": "stream",
          "name": "stdout",
          "text": [
            "Enter the number:234\n",
            "Number is composite\n"
          ]
        }
      ]
    },
    {
      "cell_type": "code",
      "source": [
        "#sum of first 5 reciprocal natural numbers.\n",
        "sum=0\n",
        "n=5\n",
        "for i in range(1,n+1):\n",
        "  sum+=(1/i)\n",
        "print(\"Sum is:\",sum) "
      ],
      "metadata": {
        "colab": {
          "base_uri": "https://localhost:8080/"
        },
        "id": "RjICP2fasEDT",
        "outputId": "935e8d04-0e9f-47fa-8e99-b204dffad5b4"
      },
      "execution_count": 25,
      "outputs": [
        {
          "output_type": "stream",
          "name": "stdout",
          "text": [
            "Sum is: 2.283333333333333\n"
          ]
        }
      ]
    },
    {
      "cell_type": "code",
      "source": [
        "#sum of only positive inputs out of 5 inputs\n",
        "sum=0\n",
        "print(\"Enter the 5 inputs\")\n",
        "for i in range(1,6):\n",
        "  num=int(input())\n",
        "  if(num>0):\n",
        "    sum=sum+num\n",
        "print(\"Sum of positive inputs is:\",sum)  "
      ],
      "metadata": {
        "colab": {
          "base_uri": "https://localhost:8080/"
        },
        "id": "lqgwithJsI6F",
        "outputId": "187a9375-976a-4eb0-a022-ec02a6fd6a99"
      },
      "execution_count": 28,
      "outputs": [
        {
          "output_type": "stream",
          "name": "stdout",
          "text": [
            "Enter the 5 inputs\n",
            "12\n",
            "-3\n",
            "122\n",
            "12\n",
            "-98\n",
            "Sum of positive inputs is: 146\n"
          ]
        }
      ]
    },
    {
      "cell_type": "code",
      "source": [
        "#print a table from 2 to 5\n",
        "for i in range(2,6):\n",
        "  print(\"Table of\",i,\":\")\n",
        "  for j in range(1,11):\n",
        "    print(i,\"*\",j,\"=\",i*j)\n",
        "print(\"------Next-------\")"
      ],
      "metadata": {
        "colab": {
          "base_uri": "https://localhost:8080/"
        },
        "id": "ojb9KmsJsPr4",
        "outputId": "37f8d2dd-e558-4024-b626-4ee07a9f7ed7"
      },
      "execution_count": 29,
      "outputs": [
        {
          "output_type": "stream",
          "name": "stdout",
          "text": [
            "Table of 2 :\n",
            "2 * 1 = 2\n",
            "2 * 2 = 4\n",
            "2 * 3 = 6\n",
            "2 * 4 = 8\n",
            "2 * 5 = 10\n",
            "2 * 6 = 12\n",
            "2 * 7 = 14\n",
            "2 * 8 = 16\n",
            "2 * 9 = 18\n",
            "2 * 10 = 20\n",
            "Table of 3 :\n",
            "3 * 1 = 3\n",
            "3 * 2 = 6\n",
            "3 * 3 = 9\n",
            "3 * 4 = 12\n",
            "3 * 5 = 15\n",
            "3 * 6 = 18\n",
            "3 * 7 = 21\n",
            "3 * 8 = 24\n",
            "3 * 9 = 27\n",
            "3 * 10 = 30\n",
            "Table of 4 :\n",
            "4 * 1 = 4\n",
            "4 * 2 = 8\n",
            "4 * 3 = 12\n",
            "4 * 4 = 16\n",
            "4 * 5 = 20\n",
            "4 * 6 = 24\n",
            "4 * 7 = 28\n",
            "4 * 8 = 32\n",
            "4 * 9 = 36\n",
            "4 * 10 = 40\n",
            "Table of 5 :\n",
            "5 * 1 = 5\n",
            "5 * 2 = 10\n",
            "5 * 3 = 15\n",
            "5 * 4 = 20\n",
            "5 * 5 = 25\n",
            "5 * 6 = 30\n",
            "5 * 7 = 35\n",
            "5 * 8 = 40\n",
            "5 * 9 = 45\n",
            "5 * 10 = 50\n",
            "------Next-------\n"
          ]
        }
      ]
    },
    {
      "cell_type": "code",
      "source": [
        "#count a occurence of a character in a string\n",
        "count=0\n",
        "str=\"akjefoihwehqcdwap9fuqeojgierhfuoqwhdqgduiediwah9dhfhewigjwpoghwepffhweoihg\"\n",
        "occ=input(\"Enter the character you want to find the occurence:\")\n",
        "for i in str:\n",
        "  if(occ==i):\n",
        "    count=count+1\n",
        "if(count==0):\n",
        "  print(\"The character doesn't occur\")\n",
        "else:\n",
        "  print(\"The entered character occurs\",count,\"times\")      \n"
      ],
      "metadata": {
        "colab": {
          "base_uri": "https://localhost:8080/"
        },
        "id": "fgML751EseEu",
        "outputId": "805a2156-930b-43c1-94d0-3c671f9b037b"
      },
      "execution_count": 30,
      "outputs": [
        {
          "output_type": "stream",
          "name": "stdout",
          "text": [
            "Enter the character you want to find the occurence:j\n",
            "The entered character occurs 3 times\n"
          ]
        }
      ]
    },
    {
      "cell_type": "code",
      "source": [],
      "metadata": {
        "id": "1VLB-R90sheE"
      },
      "execution_count": null,
      "outputs": []
    }
  ]
}