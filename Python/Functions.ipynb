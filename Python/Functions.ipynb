{
  "nbformat": 4,
  "nbformat_minor": 0,
  "metadata": {
    "colab": {
      "provenance": []
    },
    "kernelspec": {
      "name": "python3",
      "display_name": "Python 3"
    },
    "language_info": {
      "name": "python"
    }
  },
  "cells": [
    {
      "cell_type": "code",
      "execution_count": null,
      "metadata": {
        "id": "7lyjamf2PuLM"
      },
      "outputs": [],
      "source": [
        "#function defination\n",
        "#function calling\n",
        "#syntex to define a function"
      ]
    },
    {
      "cell_type": "code",
      "source": [
        "# \"def\" keyword is used to define the function\n",
        "def add():\n",
        "  a=9\n",
        "  b=10\n",
        "  print(a+b)\n",
        "add() #calling  "
      ],
      "metadata": {
        "colab": {
          "base_uri": "https://localhost:8080/"
        },
        "id": "BkoczXlrQZTG",
        "outputId": "80c705b4-7fa1-42a9-8012-15cb9c43002b"
      },
      "execution_count": null,
      "outputs": [
        {
          "output_type": "stream",
          "name": "stdout",
          "text": [
            "19\n"
          ]
        }
      ]
    },
    {
      "cell_type": "code",
      "source": [
        "#we can also give the parameters and arguments\n",
        "def add2(a,b): #parameters\n",
        "  c=a+b\n",
        "  print(c)\n",
        "add2(1,2)  #arguments(actual)\n",
        "add2(9,24)  \n"
      ],
      "metadata": {
        "colab": {
          "base_uri": "https://localhost:8080/"
        },
        "id": "076SdTFVQsYH",
        "outputId": "bd182ec8-8a5c-4291-977a-d18c5ee4deba"
      },
      "execution_count": null,
      "outputs": [
        {
          "output_type": "stream",
          "name": "stdout",
          "text": [
            "3\n",
            "33\n"
          ]
        }
      ]
    },
    {
      "cell_type": "code",
      "source": [
        "# function to calculate factorial of a number\n",
        "def factorial(num):\n",
        "  f=1\n",
        "  # for i in range(1,num+1): (the iteration can be done in decreasing order or increasing order)\n",
        "  for i in range(num,0,-1):\n",
        "    f=f*i\n",
        "  print(f)\n",
        "\n",
        "n=int(input(\"Enter the number you want to find factorial:\"))\n",
        "factorial(n)"
      ],
      "metadata": {
        "colab": {
          "base_uri": "https://localhost:8080/"
        },
        "id": "wTXFzxc1Q_P0",
        "outputId": "bf9ef643-4ddb-4b64-e61c-8268fe418f94"
      },
      "execution_count": null,
      "outputs": [
        {
          "output_type": "stream",
          "name": "stdout",
          "text": [
            "Enter the number you want to find factorial:6\n",
            "720\n"
          ]
        }
      ]
    },
    {
      "cell_type": "code",
      "source": [
        "def circle_area(radius):\n",
        "  return 3.14*radius*radius\n",
        "def circle_perimeter(radius):\n",
        "  return 2*3.14*radius  \n",
        "  print(\"hello\") #this part will not executed as when the return statement comes \n",
        "                       # the control will go where the function is called and remaining\n",
        "                       # part will not executed\n",
        "\n",
        "r=int(input(\"Enter the radius of circle = \"))\n",
        "print(\"The area of a circle\",circle_area(r))\n",
        "print(\"The perimeter of a circle\",circle_perimeter(r))"
      ],
      "metadata": {
        "colab": {
          "base_uri": "https://localhost:8080/"
        },
        "id": "9FtXEgsZRjNo",
        "outputId": "bad0fee0-271f-4ca0-be34-98e79ef2cbf4"
      },
      "execution_count": null,
      "outputs": [
        {
          "output_type": "stream",
          "name": "stdout",
          "text": [
            "Enter the radius of circle = 10\n",
            "The area of a circle 314.0\n",
            "The perimeter of a circle 62.800000000000004\n"
          ]
        }
      ]
    },
    {
      "cell_type": "markdown",
      "source": [
        "**Function Arguments.**"
      ],
      "metadata": {
        "id": "_cPO_JyI0SbU"
      }
    },
    {
      "cell_type": "code",
      "source": [
        "#Default arguments-->If the arguments aren't passed it will use default arguments otherwise passed arguments\n",
        "def fun(a=7,b=2,c=9): #default agurments\n",
        "  print(a,b,c)\n",
        "fun(56) #56 will be passed to a and default values of b&c are used \n",
        "fun() #as no arguments are passed it will all default values\n",
        "fun(56,4) #4 will be passed to the b\n",
        "#positional arguments have higher priority over the default argument\n",
        "\n",
        "# def fun2(a,b=9,c): -->Giving an error\n",
        "\n"
      ],
      "metadata": {
        "id": "iGWNaD1tR2WT",
        "colab": {
          "base_uri": "https://localhost:8080/"
        },
        "outputId": "d5148f7d-5f6c-4f16-e1fc-945e98523da3"
      },
      "execution_count": null,
      "outputs": [
        {
          "output_type": "stream",
          "name": "stdout",
          "text": [
            "56 2 9\n",
            "7 2 9\n",
            "56 4 9\n"
          ]
        }
      ]
    },
    {
      "cell_type": "markdown",
      "source": [
        "There is important rule about the default aguments-->Any parameter can't have the default value unless all parameters appearing on its right have a default value\n",
        "\n",
        "For example:\n",
        "\n",
        "def fun(a,b=9,c=10)-->Right\n",
        "\n",
        "def fun(a,b,c=0)-->Right\n",
        "\n",
        "def fun(a,b=9,c)-->Gives an error"
      ],
      "metadata": {
        "id": "dMao5BZY6gl-"
      }
    },
    {
      "cell_type": "code",
      "source": [
        "def fun(a,b):\n",
        "  print(a,b)\n",
        "fun(1,2)\n",
        "# fun(2)\n",
        "#fun()-->Gives an error because it must requires two arguments  \n",
        "\n"
      ],
      "metadata": {
        "colab": {
          "base_uri": "https://localhost:8080/"
        },
        "id": "R2YCsMh20t1z",
        "outputId": "6b31f22b-e220-4e84-db01-cb448646ad39"
      },
      "execution_count": null,
      "outputs": [
        {
          "output_type": "stream",
          "name": "stdout",
          "text": [
            "56 4 9\n"
          ]
        }
      ]
    },
    {
      "cell_type": "code",
      "source": [
        "#keyworded arguments or named arguments.\n",
        "def interest(p,t,r=0.15):\n",
        "  i=(p*r*t)/100\n",
        "  print(i)\n",
        "interest(r=0.10,t=10,p=1000) #if we are giving the named arguments,then they can be passed in any order\n",
        "interest(1000,t=100,r=1.10)   #1000 is a positional arguments and remaining are named \n"
      ],
      "metadata": {
        "colab": {
          "base_uri": "https://localhost:8080/"
        },
        "id": "6D8XrMKU6Xks",
        "outputId": "f5ad18a8-185a-4373-eb47-15a7656be3ab"
      },
      "execution_count": null,
      "outputs": [
        {
          "output_type": "stream",
          "name": "stdout",
          "text": [
            "10.0\n",
            "1100.0\n"
          ]
        }
      ]
    },
    {
      "cell_type": "code",
      "source": [
        "#create a function to tell a student whether he is passed or fail.\n",
        "def result(t,p):\n",
        "  print(\"Total Marks out of 100:\",t+p)\n",
        "  if t>=23:\n",
        "    if (t+p)>=33:\n",
        "      return \"----Congrats You are Pass----\"\n",
        "    else:\n",
        "      return \"----Fail,Improve yourself----\" \n",
        "  return \"--You are Failed in theory so you have to give the paper again--\"    \n",
        "theory=int(input(\"Enter the marks of the thoery:\"))\n",
        "practical=int(input(\"Enter the marks of the practical:\"))\n",
        "s=result(theory,practical)\n",
        "print(s)\n"
      ],
      "metadata": {
        "colab": {
          "base_uri": "https://localhost:8080/"
        },
        "id": "iLeP28pE0w0p",
        "outputId": "c7780678-5088-4d57-be68-d0f5f4341f8f"
      },
      "execution_count": null,
      "outputs": [
        {
          "output_type": "stream",
          "name": "stdout",
          "text": [
            "Enter the marks of the thoery:45\n",
            "Enter the marks of the practical:43\n",
            "Total Marks out of 100: 88\n",
            "----Congrats You are Pass----\n"
          ]
        }
      ]
    },
    {
      "cell_type": "code",
      "source": [
        "#passing list and dict as a arguments.\n",
        "def f1(x):\n",
        "  x[0]=10\n",
        "  print(x)\n",
        "x=[1,2,3]\n",
        "print(\"Previous values are:\",x)\n",
        "f1(x)\n",
        "print(\"After calling function\",x)    \n",
        "\n",
        "def f2(x):\n",
        "  x['a']=9\n",
        "  print(\"Previous values:\",x)\n",
        "x={'a':2,'b':34}\n",
        "f2(x)\n",
        "print(\"After calling:\",x)   \n",
        "print(\"As the lists and the dictionaries are mutuable in nature,so their values are changing.\")"
      ],
      "metadata": {
        "colab": {
          "base_uri": "https://localhost:8080/"
        },
        "id": "SocbCikN5Myc",
        "outputId": "8b0eed79-e767-49ac-cbf5-002a1d5bee01"
      },
      "execution_count": null,
      "outputs": [
        {
          "output_type": "stream",
          "name": "stdout",
          "text": [
            "Previous values are: [1, 2, 3]\n",
            "[10, 2, 3]\n",
            "After calling function [10, 2, 3]\n",
            "Previous values: {'a': 9, 'b': 34}\n",
            "After calling: {'a': 9, 'b': 34}\n",
            "As the lists and the dictionaries are mutuable in nature,so there values are changing.\n"
          ]
        }
      ]
    },
    {
      "cell_type": "code",
      "source": [
        "def maximum(a,b):\n",
        "  if a>b:\n",
        "    return a\n",
        "  else:\n",
        "    return b\n",
        "def minimum(a,b):\n",
        "  if a<b:\n",
        "    return a\n",
        "  else:\n",
        "    return b        \n",
        "x=-1\n",
        "print(\"Previous value has no significance:\",x)\n",
        "x=maximum(9+3,8)\n",
        "print(\"Maximum value\",x)    "
      ],
      "metadata": {
        "colab": {
          "base_uri": "https://localhost:8080/"
        },
        "id": "lhr_HO3JEpRt",
        "outputId": "7dd05577-be33-4d8c-bbe7-a6e686c66ea0"
      },
      "execution_count": null,
      "outputs": [
        {
          "output_type": "stream",
          "name": "stdout",
          "text": [
            "Previous value has no significance: -1\n",
            "Maximum value 12\n"
          ]
        }
      ]
    },
    {
      "cell_type": "code",
      "source": [
        "#Scope of the variable-->Local,Enclosed,Global \n",
        "PI=3.14 #global variable\n",
        "def perimeter(r):\n",
        "  return PI*2*r\n",
        "def area(r):\n",
        "  return PI*r*r\n",
        "def update_pi(newpi):\n",
        "  global PI  \n",
        "  PI=newpi\n",
        "print(\"Previous value of the PI:\",PI)\n",
        "print(\"Area:\",area(100))\n",
        "print(\"Perimeter\",perimeter(10))\n",
        "update_pi(3.14159)\n",
        "print(\"PI has been updated.\")\n",
        "print(\"New Value of PI\",PI)     \n",
        "print(\"Area:\",area(100))\n",
        "print(\"Perimeter\",perimeter(10))\n",
        "\n",
        "# Note that the global value can only used in the functions but if we want to modify\n",
        "#  the global value we must use the \"global\" keyword in the function and then \n",
        "# value is changed globally"
      ],
      "metadata": {
        "colab": {
          "base_uri": "https://localhost:8080/"
        },
        "id": "vqHsuZZp8sIS",
        "outputId": "4dc3d798-4657-4b12-d4aa-bb2d158265e0"
      },
      "execution_count": null,
      "outputs": [
        {
          "output_type": "stream",
          "name": "stdout",
          "text": [
            "Previous value of the PI: 3.14\n",
            "Area: 31400.0\n",
            "Perimeter 62.800000000000004\n",
            "PI has been updated.\n",
            "New Value of PI 3.14159\n",
            "Area: 31415.899999999998\n",
            "Perimeter 62.8318\n"
          ]
        }
      ]
    },
    {
      "cell_type": "code",
      "source": [
        "#if in the above function global is not used.\n",
        "PI=3.14 \n",
        "\n",
        "def perimeter(r):\n",
        "  return PI*2*r\n",
        "\n",
        "def area(r):\n",
        "  return PI*r*r\n",
        "\n",
        "def update_pi():\n",
        "  # global PI  \n",
        "  PI=3.14159\n",
        "  print(\"Local PI:\",PI)\n",
        "\n",
        "print(\"Previous value of the PI:\",PI)\n",
        "print(\"Area:\",area(100))\n",
        "print(\"Perimeter\",perimeter(10))\n",
        "update_pi()\n",
        "print(\"Current Value of PI:\",PI)    \n",
        "print(\"Area:\",area(100))\n",
        "print(\"Perimeter\",perimeter(10))\n",
        "\n",
        "# In above function when we haven't used the global keyword\n",
        "# it just created a new local variable PI but the globally value remains the same."
      ],
      "metadata": {
        "colab": {
          "base_uri": "https://localhost:8080/"
        },
        "id": "GEji0Psf_-0e",
        "outputId": "078bb719-6b7e-4b46-aba0-3eb135b2eb37"
      },
      "execution_count": null,
      "outputs": [
        {
          "output_type": "stream",
          "name": "stdout",
          "text": [
            "Previous value of the PI: 3.14\n",
            "Area: 31400.0\n",
            "Perimeter 62.800000000000004\n",
            "Local PI: 3.14159\n",
            "Current Value of PI: 3.14\n",
            "Area: 31400.0\n",
            "Perimeter 62.800000000000004\n"
          ]
        }
      ]
    },
    {
      "cell_type": "code",
      "source": [
        "#what is the output of the below code\n",
        "x=5\n",
        "def print_num(number):\n",
        "  x=3\n",
        "  print('Number=',number)\n",
        "  print('Inside x=',x)\n",
        "  return\n",
        "print('Outside x=',x)\n",
        "print_num(4)\n",
        "print('Again outside x=',x)  "
      ],
      "metadata": {
        "id": "sE3dtGlVAjH6",
        "colab": {
          "base_uri": "https://localhost:8080/"
        },
        "outputId": "54aead67-890f-43e3-dce5-b6a38e48f674"
      },
      "execution_count": null,
      "outputs": [
        {
          "output_type": "stream",
          "name": "stdout",
          "text": [
            "Outside x= 5\n",
            "Number= 4\n",
            "Inside x= 3\n",
            "Again outside x= 5\n"
          ]
        }
      ]
    },
    {
      "cell_type": "code",
      "source": [
        "def sum_of_digits(n):\n",
        "  sum=0\n",
        "  num=0\n",
        "  while(n>0):\n",
        "    num=n%10\n",
        "    sum=sum+num\n",
        "    n=n//10\n",
        "  return sum\n",
        "a=int(input(\"Enter the number:\"))  \n",
        "l=sum_of_digits(a)\n",
        "print(\"The sum of the digits:\",l)\n"
      ],
      "metadata": {
        "colab": {
          "base_uri": "https://localhost:8080/"
        },
        "id": "8_Mydhjzf2_e",
        "outputId": "8b41090e-7e90-47c4-d093-af64ba9a27e4"
      },
      "execution_count": null,
      "outputs": [
        {
          "output_type": "stream",
          "name": "stdout",
          "text": [
            "Enter the number:645\n",
            "The sum of the digits: 15\n"
          ]
        }
      ]
    }
  ]
}