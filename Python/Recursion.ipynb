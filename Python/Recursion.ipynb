{
 "cells": [
  {
   "cell_type": "code",
   "execution_count": 1,
   "metadata": {},
   "outputs": [
    {
     "name": "stdout",
     "output_type": "stream",
     "text": [
      "Factorial of entered number: 479001600\n"
     ]
    }
   ],
   "source": [
    "# WAP to find fact of a num without recusrion\n",
    "# def fun(n):\n",
    "#     y=1\n",
    "#     for i in range(n):\n",
    "#         y=y*(i+1)\n",
    "#     print(y)            \n",
    "# n=int(input(\"enter the num\"))\n",
    "# fun(n)  \n",
    "\n",
    "# With recursion\n",
    "def func(n):\n",
    "    if(n==1):\n",
    "        return 1\n",
    "    else:    \n",
    "        n=n*func(n-1)\n",
    "        return n\n",
    "n=int(input(\"Enter the  number:\"))\n",
    "x=func(n)\n",
    "print(\"Factorial of entered number:\",x) "
   ]
  },
  {
   "cell_type": "code",
   "execution_count": 2,
   "metadata": {},
   "outputs": [
    {
     "name": "stdout",
     "output_type": "stream",
     "text": [
      "Fib series is:\n",
      "0\n",
      "1\n",
      "1\n",
      "2\n",
      "3\n",
      "5\n",
      "8\n",
      "13\n",
      "21\n",
      "34\n",
      "55\n",
      "89\n"
     ]
    }
   ],
   "source": [
    "#Fibonaacci series using recursion\n",
    "def fib(n):\n",
    "    if(n<=1):\n",
    "        return n\n",
    "    else:\n",
    "        return(fib(n-1)+fib(n-2))    \n",
    "n=int(input(\"Enter the num of terms:\"))\n",
    "print(\"Fib series is:\")\n",
    "for i in range(n):\n",
    "    print(fib(i))"
   ]
  },
  {
   "cell_type": "code",
   "execution_count": null,
   "metadata": {},
   "outputs": [],
   "source": []
  }
 ],
 "metadata": {
  "kernelspec": {
   "display_name": "Python 3",
   "language": "python",
   "name": "python3"
  },
  "language_info": {
   "codemirror_mode": {
    "name": "ipython",
    "version": 3
   },
   "file_extension": ".py",
   "mimetype": "text/x-python",
   "name": "python",
   "nbconvert_exporter": "python",
   "pygments_lexer": "ipython3",
   "version": "3.9.6"
  },
  "orig_nbformat": 4,
  "vscode": {
   "interpreter": {
    "hash": "2c6d6e06d4238dadd3173af8e5b0eae8ba0aed40732055cad78c518212ce9584"
   }
  }
 },
 "nbformat": 4,
 "nbformat_minor": 2
}
