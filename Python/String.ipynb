{
  "nbformat": 4,
  "nbformat_minor": 0,
  "metadata": {
    "colab": {
      "provenance": []
    },
    "kernelspec": {
      "name": "python3",
      "display_name": "Python 3"
    },
    "language_info": {
      "name": "python"
    }
  },
  "cells": [
    {
      "cell_type": "code",
      "execution_count": 3,
      "metadata": {
        "colab": {
          "base_uri": "https://localhost:8080/",
          "height": 35
        },
        "id": "IvjJC8JEoDHE",
        "outputId": "5ac77bb2-bdc8-4009-abbc-4b6f364d39e5"
      },
      "outputs": [
        {
          "output_type": "execute_result",
          "data": {
            "text/plain": [
              "'Nielit is in chandigarhNielit is in Ropar also'"
            ],
            "application/vnd.google.colaboratory.intrinsic+json": {
              "type": "string"
            }
          },
          "metadata": {},
          "execution_count": 3
        }
      ],
      "source": [
        "#concentation(+)\n",
        "str=\"Nielit is in chandigarh\"\n",
        "str2=\"Nielit is in Ropar also\"\n",
        "str+ str2"
      ]
    },
    {
      "cell_type": "code",
      "source": [
        "#replication(*)\n",
        "str=\"Tamshu \"\n",
        "str*3"
      ],
      "metadata": {
        "colab": {
          "base_uri": "https://localhost:8080/",
          "height": 35
        },
        "id": "_dJxURkUoVZO",
        "outputId": "4b9cacda-5271-4a4c-b84d-4eb89f8c233d"
      },
      "execution_count": 4,
      "outputs": [
        {
          "output_type": "execute_result",
          "data": {
            "text/plain": [
              "'Tamshu Tamshu Tamshu '"
            ],
            "application/vnd.google.colaboratory.intrinsic+json": {
              "type": "string"
            }
          },
          "metadata": {},
          "execution_count": 4
        }
      ]
    },
    {
      "cell_type": "code",
      "source": [
        "#membership(in or not in)\n",
        "str=\"Tashu is my name.\"\n",
        "print(\"Friend\" in str)\n",
        "print(\"is\" in str)\n",
        "print(\"Hitesh\" in str)\n",
        "print(\"Friend\" not in str)\n",
        "print(\"is\" not in str)"
      ],
      "metadata": {
        "colab": {
          "base_uri": "https://localhost:8080/"
        },
        "id": "Ebnv7dr7omTg",
        "outputId": "861ec693-25ef-40d8-f4f7-67027445fe43"
      },
      "execution_count": 5,
      "outputs": [
        {
          "output_type": "stream",
          "name": "stdout",
          "text": [
            "False\n",
            "True\n",
            "False\n",
            "True\n",
            "False\n"
          ]
        }
      ]
    },
    {
      "cell_type": "markdown",
      "source": [
        "Ord() function is used to return numeric value of the character i.e for A it is 65\n",
        "\n",
        "Chr() function returns character corresponding to Ascii code"
      ],
      "metadata": {
        "id": "Gt3OLx55peOB"
      }
    },
    {
      "cell_type": "code",
      "source": [
        "a=ord(\"A\")\n",
        "b=ord(\"z\")\n",
        "c=chr(67)\n",
        "d=chr(115)\n",
        "print(a,b,c,d)"
      ],
      "metadata": {
        "colab": {
          "base_uri": "https://localhost:8080/"
        },
        "id": "Tr7wIehJpTHZ",
        "outputId": "34f16bdb-cf61-41c1-80f7-8782e0d0fb41"
      },
      "execution_count": 6,
      "outputs": [
        {
          "output_type": "stream",
          "name": "stdout",
          "text": [
            "65 122 C s\n"
          ]
        }
      ]
    },
    {
      "cell_type": "markdown",
      "source": [
        "*str=\"P O R T I O N\"*\n",
        "\n",
        "**Positive indexing:**\n",
        "\n",
        "-->     0   1   2   3   4   5   6\n",
        "\n",
        "**Negative indexing:**\n",
        "    \n",
        "-->    -7 -6 -5 -4 -3 -2 -1\n",
        "\n",
        "**Syntex:**\n",
        "\n",
        "str[start:end-1:skip]\n",
        "\n",
        "(By default,skip is zero)"
      ],
      "metadata": {
        "id": "f9RJHMBspXjg"
      }
    },
    {
      "cell_type": "code",
      "source": [
        "str=\"PORTION\"\n",
        "print(str[0:])\n",
        "print(str[1:-1])\n",
        "print(str[-1:])\n",
        "print(str[-7:])\n",
        "print(str[-7:2])\n",
        "print(str[::-1])\n",
        "print(str[-1:-8:-1])"
      ],
      "metadata": {
        "colab": {
          "base_uri": "https://localhost:8080/"
        },
        "id": "RwKEqAn_IE1K",
        "outputId": "7ebc902d-1f50-4994-c071-13a6d0fb908d"
      },
      "execution_count": 7,
      "outputs": [
        {
          "output_type": "stream",
          "name": "stdout",
          "text": [
            "PORTION\n",
            "ORTIO\n",
            "N\n",
            "PORTION\n",
            "PO\n",
            "NOITROP\n",
            "NOITROP\n"
          ]
        }
      ]
    },
    {
      "cell_type": "code",
      "source": [
        "str=\"Welcome\"\n",
        "for i in str:\n",
        "  print((i+\"*\"),end=\" \")"
      ],
      "metadata": {
        "id": "XmRTY93UIOcY",
        "colab": {
          "base_uri": "https://localhost:8080/"
        },
        "outputId": "929b99dd-3bdd-4f76-e970-5b64d31ebede"
      },
      "execution_count": 8,
      "outputs": [
        {
          "output_type": "stream",
          "name": "stdout",
          "text": [
            "W* e* l* c* o* m* e* "
          ]
        }
      ]
    },
    {
      "cell_type": "markdown",
      "source": [
        "***#String Functions***\n",
        "\n",
        "**1.**  *len()*-->To find the length of a string\n",
        "\n",
        "**2.** *upper()*-->To convert all the characters into uppercase\n",
        "\n",
        "**3.** *lower()*-->To convert all the characters to lower case\n",
        "\n",
        "**4.** *capitalize()*-->To convert the first letter into upper and remaining letters into lowercase.\n",
        "\n",
        "**5.** *islower()*--> Returns true if all the letters are lower otherwise return false\n",
        "\n",
        "**6.** *isupper()*--> Returns true if all characters are upper otherwise return false\n",
        "\n",
        "**7.** *isalpha()*-->Returns true if all are characters(not any digit or special character includes space too)\n",
        "\n",
        "**8.** *isdigit()*--> Returns true if all are digits\n",
        "\n",
        "**9.** *isalnum()*-->Returns true if all are digits or character or both(must not include any special character)\n",
        "\n",
        "\n",
        "**10.** *count()*-->Number of times a charcter occurs in a string"
      ],
      "metadata": {
        "id": "_-6YG81p2s0S"
      }
    },
    {
      "cell_type": "code",
      "source": [
        "str=\"hitesh is my good friend\"\n",
        "print(\"The length of the string is:\",len(str))\n",
        "print(str.upper())\n",
        "print(str.lower())\n",
        "print(str.capitalize())\n",
        "print(str.islower())\n",
        "print(str.isupper())\n",
        "print(str.isalpha())\n",
        "print(str.isdigit())\n",
        "print(str.isalnum())\n",
        "print(str.count('h'))"
      ],
      "metadata": {
        "colab": {
          "base_uri": "https://localhost:8080/"
        },
        "id": "3gYOAFm52e1K",
        "outputId": "32ae4ef5-fa8f-41bb-d018-7e4abc3fa930"
      },
      "execution_count": 9,
      "outputs": [
        {
          "output_type": "stream",
          "name": "stdout",
          "text": [
            "The length of the string is: 24\n",
            "HITESH IS MY GOOD FRIEND\n",
            "hitesh is my good friend\n",
            "Hitesh is my good friend\n",
            "True\n",
            "False\n",
            "False\n",
            "False\n",
            "False\n",
            "2\n"
          ]
        }
      ]
    },
    {
      "cell_type": "markdown",
      "source": [
        "***Other String functions:***\n",
        "\n",
        "**11.** *find()*--> Returns the index of the character in string\n",
        "\n",
        "**12.** *casefold()*-->Returns the string with all lowercase characters(similar to lower function but it is more stronger)\n",
        "\n",
        "**13.** *replace()*-->Replace the character within a string\n",
        "\n",
        "**14.** *endswith()*-->Return true if the string ends with the entered value  "
      ],
      "metadata": {
        "id": "-RecOQTi-Tfb"
      }
    },
    {
      "cell_type": "code",
      "source": [
        "str.find('h',2)\n",
        "print(str.find('w'))  #Returns -1 if not present in a string\n",
        "print(str.casefold())\n",
        "print(str.replace('good','best'))\n",
        "str2=\"University college of engineering,Punjabi University Patiala\"\n",
        "print(str2.replace('University','uni'))\n",
        "print(str.endswith('friend'))\n",
        "print(str.endswith('patiala'))"
      ],
      "metadata": {
        "colab": {
          "base_uri": "https://localhost:8080/"
        },
        "id": "-ggSrkOo6JUk",
        "outputId": "63e68331-031e-4f01-ffbc-19caccca8892"
      },
      "execution_count": 10,
      "outputs": [
        {
          "output_type": "stream",
          "name": "stdout",
          "text": [
            "-1\n",
            "hitesh is my good friend\n",
            "hitesh is my best friend\n",
            "uni college of engineering,Punjabi uni Patiala\n",
            "True\n",
            "False\n"
          ]
        }
      ]
    },
    {
      "cell_type": "markdown",
      "source": [
        "**15.** *lstrip and rstrip()*-->It is used to remove the spaces from the left and the right side of the string\n",
        "\n",
        "**16.** *isspace()*-->Returns True if there is only whitespace characters,Returns False if the string is empty or atleast one non-printable character\n",
        "\n",
        "**17.** *join()*-->It is used to join two strings in the way given below\n",
        "\n",
        "**18.** *swapcase()*-->To convert the lower into upper and vice-versa\n",
        "\n",
        "**19.** *partition()*-->It will split the string at the first occurence of the separator mentioned\n",
        "\n",
        "**20.** *split()*-->It will split the string into list of words"
      ],
      "metadata": {
        "id": "QN1UTynpyJ-s"
      }
    },
    {
      "cell_type": "code",
      "source": [
        "var=\"      \"\n",
        "print(\"The actual length:\",len(var))\n",
        "var1=var.lstrip()\n",
        "print(\"The length of string after ltrip is:\",len(var1))\n",
        "var2=var.rstrip()\n",
        "print(\"The length of string after rtrip is:\",len(var2))\n",
        "print(var.isspace())\n",
        "print(str.isspace())"
      ],
      "metadata": {
        "id": "ftGnpcBF_lrt",
        "colab": {
          "base_uri": "https://localhost:8080/"
        },
        "outputId": "3c5917c6-324c-4875-9017-cf9fb0f098ca"
      },
      "execution_count": 11,
      "outputs": [
        {
          "output_type": "stream",
          "name": "stdout",
          "text": [
            "The actual length: 6\n",
            "The length of string after ltrip is: 0\n",
            "The length of string after rtrip is: 0\n",
            "True\n",
            "False\n"
          ]
        }
      ]
    },
    {
      "cell_type": "code",
      "source": [
        "var2='tashu'\n",
        "print(str.join(var2))\n",
        "print(str.join(var))\n",
        "var3=\"Hi,my name is Thomas Shelby\"\n",
        "print(var3.swapcase())"
      ],
      "metadata": {
        "colab": {
          "base_uri": "https://localhost:8080/"
        },
        "id": "-8H6Kfbty4q2",
        "outputId": "5f1c6620-c14e-4e2c-c158-66fe61bc7d25"
      },
      "execution_count": 12,
      "outputs": [
        {
          "output_type": "stream",
          "name": "stdout",
          "text": [
            "thitesh is my good friendahitesh is my good friendshitesh is my good friendhhitesh is my good friendu\n",
            " hitesh is my good friend hitesh is my good friend hitesh is my good friend hitesh is my good friend hitesh is my good friend \n",
            "hI,MY NAME IS tHOMAS sHELBY\n"
          ]
        }
      ]
    },
    {
      "cell_type": "code",
      "source": [
        "print(var3.partition('name'))\n",
        "print(var3.partition('lby'))\n",
        "print(\"hi,my name is hitesh kumar\".partition('h'))"
      ],
      "metadata": {
        "colab": {
          "base_uri": "https://localhost:8080/"
        },
        "id": "EKYMCPBB11bz",
        "outputId": "76466ab4-a874-4568-c3a2-cb3ee3ee9f4b"
      },
      "execution_count": 13,
      "outputs": [
        {
          "output_type": "stream",
          "name": "stdout",
          "text": [
            "('Hi,my ', 'name', ' is Thomas Shelby')\n",
            "('Hi,my name is Thomas She', 'lby', '')\n",
            "('', 'h', 'i,my name is hitesh kumar')\n"
          ]
        }
      ]
    },
    {
      "cell_type": "code",
      "source": [
        "print(\"hi,my name is hitesh kumar\".split())\n",
        "str=\"my,name,is,parikh\"\n",
        "str2=\"tell.me.your.name\"\n",
        "li=str.split()\n",
        "l2=str.split(',')\n",
        "l3=str2.split('.')\n",
        "li=str.split(',',1)\n",
        "print(li)\n",
        "print(l2)\n",
        "print(l3)\n",
        "print(li)"
      ],
      "metadata": {
        "colab": {
          "base_uri": "https://localhost:8080/"
        },
        "id": "oDpK0zwW3aEm",
        "outputId": "e8037c5f-5e20-40a9-c46b-14146383348a"
      },
      "execution_count": 14,
      "outputs": [
        {
          "output_type": "stream",
          "name": "stdout",
          "text": [
            "['hi,my', 'name', 'is', 'hitesh', 'kumar']\n",
            "['my', 'name,is,parikh']\n",
            "['my', 'name', 'is', 'parikh']\n",
            "['tell', 'me', 'your', 'name']\n",
            "['my', 'name,is,parikh']\n"
          ]
        }
      ]
    },
    {
      "cell_type": "markdown",
      "source": [
        "## ***Assignment Questions*** "
      ],
      "metadata": {
        "id": "Qh4-0ZwQ4Zvb"
      }
    },
    {
      "cell_type": "code",
      "source": [
        "#program to replace a character into special character\n",
        "str=\"Hello guys,My name is Tashu Bansal.I am doing Btech in Punjabi University,Patiala\"\n",
        "print(str)\n",
        "str=str.replace('a','@')\n",
        "str=str.replace('s','$')\n",
        "str=str.replace('H','|-|')\n",
        "print(str)"
      ],
      "metadata": {
        "colab": {
          "base_uri": "https://localhost:8080/"
        },
        "id": "aaViFZd14JqV",
        "outputId": "483f56bd-ff24-409a-b282-dd9475b4c527"
      },
      "execution_count": 15,
      "outputs": [
        {
          "output_type": "stream",
          "name": "stdout",
          "text": [
            "Hello guys,My name is Tashu Bansal.I am doing Btech in Punjabi University,Patiala\n",
            "|-|ello guy$,My n@me i$ T@$hu B@n$@l.I @m doing Btech in Punj@bi Univer$ity,P@ti@l@\n"
          ]
        }
      ]
    },
    {
      "cell_type": "code",
      "source": [
        "#program to find whether a string is palidrome or not\n",
        "str=\"hih\"\n",
        "str2=str[::-1]\n",
        "if(str==str2):\n",
        "  print(\"String is palidrome\")\n",
        "else:\n",
        "  print(\"String is not palidrome\")  \n"
      ],
      "metadata": {
        "colab": {
          "base_uri": "https://localhost:8080/"
        },
        "id": "2VBzVBtY5EJi",
        "outputId": "1931a46c-cf37-4fe4-d71b-ee8006f7de56"
      },
      "execution_count": 16,
      "outputs": [
        {
          "output_type": "stream",
          "name": "stdout",
          "text": [
            "String is palidrome\n"
          ]
        }
      ]
    },
    {
      "cell_type": "code",
      "source": [
        "#program to count alphabets,digits and special characters in a string.\n",
        "str=input(\"Enter the string:\")\n",
        "count1=0\n",
        "count2=0\n",
        "count3=0\n",
        "for i in str:\n",
        "  if(i.isalpha()):\n",
        "    count1+=1\n",
        "  elif(i.isdigit()):\n",
        "    count2+=1\n",
        "  else:\n",
        "    count3+=1\n",
        "print(\"Number of alphabets:\",count1)\n",
        "print(\"Number of digits:\",count2)\n",
        "print(\"Number of special characters:\",count3)    "
      ],
      "metadata": {
        "colab": {
          "base_uri": "https://localhost:8080/"
        },
        "id": "xLKIx2rN5tyg",
        "outputId": "ac630d86-d4f9-4e8a-9cf4-92f9656491e8"
      },
      "execution_count": 17,
      "outputs": [
        {
          "output_type": "stream",
          "name": "stdout",
          "text": [
            "Enter the string:hi my name is tashu and welcome here 123\n",
            "Number of alphabets: 29\n",
            "Number of digits: 3\n",
            "Number of special characters: 8\n"
          ]
        }
      ]
    },
    {
      "cell_type": "code",
      "source": [
        "#program to find vowels in a string\n",
        "str=input(\"Enter the string:\")\n",
        "vowel=0\n",
        "v='aeiou'\n",
        "for i in str:\n",
        "  for j in v:\n",
        "    if(i==j):\n",
        "      vowel=vowel+1\n",
        "print(\"Numbers of vowels in entered string are:\",vowel)      \n"
      ],
      "metadata": {
        "colab": {
          "base_uri": "https://localhost:8080/"
        },
        "id": "XnST-dLu95H-",
        "outputId": "081b6134-4ac2-4289-b515-d7c15fe7b66d"
      },
      "execution_count": 18,
      "outputs": [
        {
          "output_type": "stream",
          "name": "stdout",
          "text": [
            "Enter the string:hey hey hey\n",
            "Numbers of vowels in entered string are: 3\n"
          ]
        }
      ]
    },
    {
      "cell_type": "code",
      "source": [
        "#program to find the number of words in a string.\n",
        "str=input(\"Enter the string:\")\n",
        "count=0\n",
        "for i in str:\n",
        "  if(i!=' '):\n",
        "    count+=1\n",
        "print(\"Number of characters in a string:\",count)\n",
        "str1=str.split()\n",
        "print(\"Numbers of words in a string:\",len(str1))    "
      ],
      "metadata": {
        "colab": {
          "base_uri": "https://localhost:8080/"
        },
        "id": "BdG2QM1b-t1-",
        "outputId": "fc407885-eee7-4f5e-fae7-21a50be337a1"
      },
      "execution_count": 19,
      "outputs": [
        {
          "output_type": "stream",
          "name": "stdout",
          "text": [
            "Enter the string:hello python is very easy language\n",
            "Number of characters in a string: 29\n",
            "Numbers of words in a string: 6\n"
          ]
        }
      ]
    }
  ]
}