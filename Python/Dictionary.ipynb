{
  "nbformat": 4,
  "nbformat_minor": 0,
  "metadata": {
    "colab": {
      "provenance": []
    },
    "kernelspec": {
      "name": "python3",
      "display_name": "Python 3"
    },
    "language_info": {
      "name": "python"
    }
  },
  "cells": [
    {
      "cell_type": "markdown",
      "source": [
        "Dictionary is a data structure of python which is unordered collection of the items which store the elements in the form of the key:value pair.The value can be accessed using the key"
      ],
      "metadata": {
        "id": "RIKPOu7CDvDB"
      }
    },
    {
      "cell_type": "code",
      "execution_count": 40,
      "metadata": {
        "colab": {
          "base_uri": "https://localhost:8080/"
        },
        "id": "txir_8evDKxL",
        "outputId": "08466f88-a6ac-4460-aa98-56ac00deb552"
      },
      "outputs": [
        {
          "output_type": "stream",
          "name": "stdout",
          "text": [
            "<class 'dict'>\n"
          ]
        }
      ],
      "source": [
        "d={} #empty dictionary\n",
        "print(type(d))\n"
      ]
    },
    {
      "cell_type": "code",
      "source": [
        "d={'a':1,'b':2} #comma after the last pair is optional\n",
        "d1={1:\"Tashu\",2:\"Navneet\",3:\"Himtesh\"}\n",
        "print(d['a'])\n",
        "print(d1) #printing all the elements of the dict"
      ],
      "metadata": {
        "colab": {
          "base_uri": "https://localhost:8080/"
        },
        "id": "4xaN6NHZEEgA",
        "outputId": "c9f837e2-afbc-4972-b5d7-31cd09ea1f9a"
      },
      "execution_count": 41,
      "outputs": [
        {
          "output_type": "stream",
          "name": "stdout",
          "text": [
            "1\n",
            "{1: 'Tashu', 2: 'Navneet', 3: 'Himtesh'}\n"
          ]
        }
      ]
    },
    {
      "cell_type": "code",
      "source": [
        "#Another way to declare a dictionary\n",
        "dict1={}\n",
        "dict1['English']=98\n",
        "dict1['Maths']=90\n",
        "dict1['Science']=96\n",
        "print(dict1)"
      ],
      "metadata": {
        "colab": {
          "base_uri": "https://localhost:8080/"
        },
        "id": "kWjOrvj0E57z",
        "outputId": "73f520ca-ad52-4f8b-b0b1-c4d3c0cbe76a"
      },
      "execution_count": 42,
      "outputs": [
        {
          "output_type": "stream",
          "name": "stdout",
          "text": [
            "{'English': 98, 'Maths': 90, 'Science': 96}\n"
          ]
        }
      ]
    },
    {
      "cell_type": "code",
      "source": [
        "#Changing the values of the dictionary\n",
        "dict1['English']=100\n",
        "print(dict1)\n",
        "\n",
        "#Adding some values to the dictionary\n",
        "dict1['Hindi']=89\n",
        "print(dict1)\n",
        "\n",
        "\n",
        "#Updating the values of the dictionary\n",
        "dict2={'Punjabi':87,'Computer':98}\n",
        "dict1.update(dict2)\n",
        "print(dict1)"
      ],
      "metadata": {
        "colab": {
          "base_uri": "https://localhost:8080/"
        },
        "id": "Bp4V2sPRGuli",
        "outputId": "f31c875d-8f77-4364-a4cb-e934af172ea0"
      },
      "execution_count": 43,
      "outputs": [
        {
          "output_type": "stream",
          "name": "stdout",
          "text": [
            "{'English': 100, 'Maths': 90, 'Science': 96}\n",
            "{'English': 100, 'Maths': 90, 'Science': 96, 'Hindi': 89}\n",
            "{'English': 100, 'Maths': 90, 'Science': 96, 'Hindi': 89, 'Punjabi': 87, 'Computer': 98}\n"
          ]
        }
      ]
    },
    {
      "cell_type": "code",
      "source": [
        "#we can also add the values as a list or a tuple\n",
        "\n",
        "dict={}\n",
        "dict['a']=[1,2,3,4,5,6]\n",
        "dict['b']=[1,8,9,7,7]\n",
        "dict['c']=(5,6,7)\n",
        "print(dict)"
      ],
      "metadata": {
        "colab": {
          "base_uri": "https://localhost:8080/"
        },
        "id": "gJLIEh5RG2iZ",
        "outputId": "43cccaea-4508-43a2-d8e8-a5fd85e2d413"
      },
      "execution_count": 44,
      "outputs": [
        {
          "output_type": "stream",
          "name": "stdout",
          "text": [
            "{'a': [1, 2, 3, 4, 5, 6], 'b': [1, 8, 9, 7, 7], 'c': (5, 6, 7)}\n"
          ]
        }
      ]
    },
    {
      "cell_type": "code",
      "source": [
        "list(dict)\n",
        "\n",
        "#if we try to print the list values using the list function then it will error i.e. \n",
        "#we can convert only string elements of dict into list "
      ],
      "metadata": {
        "id": "tBWx6SIXH1i_",
        "colab": {
          "base_uri": "https://localhost:8080/",
          "height": 218
        },
        "outputId": "381b7845-7c81-4155-db31-43c694185f9b"
      },
      "execution_count": 45,
      "outputs": [
        {
          "output_type": "error",
          "ename": "TypeError",
          "evalue": "ignored",
          "traceback": [
            "\u001b[0;31m---------------------------------------------------------------------------\u001b[0m",
            "\u001b[0;31mTypeError\u001b[0m                                 Traceback (most recent call last)",
            "\u001b[0;32m<ipython-input-45-39b0feed3e55>\u001b[0m in \u001b[0;36m<module>\u001b[0;34m\u001b[0m\n\u001b[0;32m----> 1\u001b[0;31m \u001b[0mlist\u001b[0m\u001b[0;34m(\u001b[0m\u001b[0mdict\u001b[0m\u001b[0;34m)\u001b[0m\u001b[0;34m\u001b[0m\u001b[0;34m\u001b[0m\u001b[0m\n\u001b[0m\u001b[1;32m      2\u001b[0m \u001b[0;34m\u001b[0m\u001b[0m\n\u001b[1;32m      3\u001b[0m \u001b[0;31m#if we try to print the list values using the list function then it will error i.e.\u001b[0m\u001b[0;34m\u001b[0m\u001b[0;34m\u001b[0m\u001b[0;34m\u001b[0m\u001b[0m\n\u001b[1;32m      4\u001b[0m \u001b[0;31m#we can covert only string elements of dict into list\u001b[0m\u001b[0;34m\u001b[0m\u001b[0;34m\u001b[0m\u001b[0;34m\u001b[0m\u001b[0m\n",
            "\u001b[0;31mTypeError\u001b[0m: 'list' object is not callable"
          ]
        }
      ]
    },
    {
      "cell_type": "code",
      "source": [
        "dict1.keys()"
      ],
      "metadata": {
        "colab": {
          "base_uri": "https://localhost:8080/"
        },
        "id": "khTOhEyOJbDy",
        "outputId": "22ec91e9-13d6-4a26-f11d-72dcbd056502"
      },
      "execution_count": 46,
      "outputs": [
        {
          "output_type": "execute_result",
          "data": {
            "text/plain": [
              "dict_keys(['English', 'Maths', 'Science', 'Hindi', 'Punjabi', 'Computer'])"
            ]
          },
          "metadata": {},
          "execution_count": 46
        }
      ]
    },
    {
      "cell_type": "code",
      "source": [
        "dict1.values()"
      ],
      "metadata": {
        "colab": {
          "base_uri": "https://localhost:8080/"
        },
        "id": "bdJsWLW7KlAX",
        "outputId": "719b649b-f2ca-4d7d-bbad-11276029e24c"
      },
      "execution_count": 47,
      "outputs": [
        {
          "output_type": "execute_result",
          "data": {
            "text/plain": [
              "dict_values([100, 90, 96, 89, 87, 98])"
            ]
          },
          "metadata": {},
          "execution_count": 47
        }
      ]
    },
    {
      "cell_type": "code",
      "source": [
        "dict.values()"
      ],
      "metadata": {
        "colab": {
          "base_uri": "https://localhost:8080/"
        },
        "id": "gZ4U7F_AKnO8",
        "outputId": "7956e023-f89d-4c0a-edfe-8937c6e038fd"
      },
      "execution_count": 48,
      "outputs": [
        {
          "output_type": "execute_result",
          "data": {
            "text/plain": [
              "dict_values([[1, 2, 3, 4, 5, 6], [1, 8, 9, 7, 7], (5, 6, 7)])"
            ]
          },
          "metadata": {},
          "execution_count": 48
        }
      ]
    },
    {
      "cell_type": "code",
      "source": [
        "dict.items()"
      ],
      "metadata": {
        "colab": {
          "base_uri": "https://localhost:8080/"
        },
        "id": "lTf2TeO9KqV7",
        "outputId": "bff57441-0532-4b26-b94f-a0dded8ef5a3"
      },
      "execution_count": 49,
      "outputs": [
        {
          "output_type": "execute_result",
          "data": {
            "text/plain": [
              "dict_items([('a', [1, 2, 3, 4, 5, 6]), ('b', [1, 8, 9, 7, 7]), ('c', (5, 6, 7))])"
            ]
          },
          "metadata": {},
          "execution_count": 49
        }
      ]
    },
    {
      "cell_type": "code",
      "source": [
        "dict1.items()"
      ],
      "metadata": {
        "colab": {
          "base_uri": "https://localhost:8080/"
        },
        "id": "VAurCro4KwaB",
        "outputId": "2734a893-9597-4351-d7fe-1626aa56e302"
      },
      "execution_count": 50,
      "outputs": [
        {
          "output_type": "execute_result",
          "data": {
            "text/plain": [
              "dict_items([('English', 100), ('Maths', 90), ('Science', 96), ('Hindi', 89), ('Punjabi', 87), ('Computer', 98)])"
            ]
          },
          "metadata": {},
          "execution_count": 50
        }
      ]
    },
    {
      "cell_type": "code",
      "source": [
        "dict1.get('English')"
      ],
      "metadata": {
        "colab": {
          "base_uri": "https://localhost:8080/"
        },
        "id": "WoI-UzIOK1TC",
        "outputId": "c75991dc-749b-4b0c-8e22-27c14420b1f0"
      },
      "execution_count": 51,
      "outputs": [
        {
          "output_type": "execute_result",
          "data": {
            "text/plain": [
              "100"
            ]
          },
          "metadata": {},
          "execution_count": 51
        }
      ]
    },
    {
      "cell_type": "code",
      "source": [
        "dict.get('a')"
      ],
      "metadata": {
        "colab": {
          "base_uri": "https://localhost:8080/"
        },
        "id": "Anr9O_DoK8gR",
        "outputId": "901c065f-213c-4895-ebe0-fd0bfa8f2e51"
      },
      "execution_count": 52,
      "outputs": [
        {
          "output_type": "execute_result",
          "data": {
            "text/plain": [
              "[1, 2, 3, 4, 5, 6]"
            ]
          },
          "metadata": {},
          "execution_count": 52
        }
      ]
    },
    {
      "cell_type": "code",
      "source": [
        "#iterating dict using for loop\n",
        "for x in dict:\n",
        "  print(x,\":\",dict[x])\n",
        "for x in dict:\n",
        "  print(dict[x][0])  #this will only correct when the value is list or a tuple"
      ],
      "metadata": {
        "colab": {
          "base_uri": "https://localhost:8080/"
        },
        "id": "DG1RMbGwK_Vg",
        "outputId": "939cc2ad-ab2f-4b84-a3c2-0072542f7190"
      },
      "execution_count": 53,
      "outputs": [
        {
          "output_type": "stream",
          "name": "stdout",
          "text": [
            "a : [1, 2, 3, 4, 5, 6]\n",
            "b : [1, 8, 9, 7, 7]\n",
            "c : (5, 6, 7)\n",
            "1\n",
            "1\n",
            "5\n"
          ]
        }
      ]
    },
    {
      "cell_type": "code",
      "source": [
        "#FROM THIS {'s': 3, 'u': 2, 'c': 2, 'e': 1, 'f': 1, 'l': 1}\n",
        "#MAKE THIS REVERSE DICTIONARY {1: ['e', 'f', 'l'], 2: ['u', 'c'], 3: ['s']}\n",
        "\n",
        "def histogram(w):\n",
        "    d={}\n",
        "    for char in w:\n",
        "        if char not in d:\n",
        "            d[char]=1\n",
        "        else:\n",
        "            d[char]=d[char] +1\n",
        "    return d\n",
        "    print(d)\n",
        "\n",
        "def lookup(h, c):\n",
        "    if c in h:\n",
        "        return True\n",
        "    else:\n",
        "        return False\n",
        "\n",
        "def revdic(h):\n",
        "    d={}\n",
        "    for item,value in h.items():\n",
        "      if value not in d:  \n",
        "        d[value]=[item]\n",
        "      else:  \n",
        "        d[value].append(item)\n",
        "    return d      \n",
        "def main():\n",
        "    word=\"successful\"\n",
        "    hist=histogram(word)\n",
        "    print(hist)\n",
        "    i=lookup(hist, \"e\")\n",
        "    if i==True:\n",
        "        print(\"found\")\n",
        "    else:\n",
        "        print(\"not found\")\n",
        "    rev=revdic(hist)\n",
        "    print(\"Reverse Dictionary:\",rev)\n",
        "main()"
      ],
      "metadata": {
        "id": "DmHVMP6eMCLZ",
        "colab": {
          "base_uri": "https://localhost:8080/"
        },
        "outputId": "f062e0ed-38b6-4dee-c8be-8c0f1a99fcd3"
      },
      "execution_count": 56,
      "outputs": [
        {
          "output_type": "stream",
          "name": "stdout",
          "text": [
            "{'s': 3, 'u': 2, 'c': 2, 'e': 1, 'f': 1, 'l': 1}\n",
            "found\n",
            "Reverse Dictionary: {3: ['s'], 2: ['u', 'c'], 1: ['e', 'f', 'l']}\n"
          ]
        }
      ]
    },
    {
      "cell_type": "code",
      "source": [
        "#Stop words are basically those words like the,is,in etc. which are not useful.\n",
        "import nltk\n",
        "nltk.download('stopwords')"
      ],
      "metadata": {
        "colab": {
          "base_uri": "https://localhost:8080/"
        },
        "id": "-lEy1aFhEiHJ",
        "outputId": "4d25a163-c677-4688-fa2f-39d6ba2ec5a1"
      },
      "execution_count": 57,
      "outputs": [
        {
          "output_type": "stream",
          "name": "stderr",
          "text": [
            "[nltk_data] Downloading package stopwords to /root/nltk_data...\n",
            "[nltk_data]   Package stopwords is already up-to-date!\n"
          ]
        },
        {
          "output_type": "execute_result",
          "data": {
            "text/plain": [
              "True"
            ]
          },
          "metadata": {},
          "execution_count": 57
        }
      ]
    },
    {
      "cell_type": "code",
      "source": [
        "from nltk.corpus import stopwords\n",
        "\n",
        "# Removing stopwords and displaying keywords.\n",
        "review=\"exciting \\\n",
        "interesting exciting good \\\n",
        "good is the its itself great amazing slaying NiceMovie Boring Useless\"\n",
        "list=review.split()\n",
        "d={}\n",
        "for i in list:\n",
        "  if i not in stopwords.words('english'):\n",
        "    if i not in d:\n",
        "      d[i]=1\n",
        "    else:\n",
        "      d[i]=d[i]+1\n",
        "print(d) "
      ],
      "metadata": {
        "colab": {
          "base_uri": "https://localhost:8080/"
        },
        "id": "Mg5HGcxEEHqa",
        "outputId": "fbaaceea-511e-412c-ee9e-8fe641ea33b6"
      },
      "execution_count": 58,
      "outputs": [
        {
          "output_type": "stream",
          "name": "stdout",
          "text": [
            "{'exciting': 2, 'interesting': 1, 'good': 2, 'great': 1, 'amazing': 1, 'slaying': 1, 'NiceMovie': 1, 'Boring': 1, 'Useless': 1}\n"
          ]
        }
      ]
    },
    {
      "cell_type": "code",
      "source": [
        "mailist=[\"From anu@nielit.com at 5:20pm\",\n",
        "         \"From sonusharma@redlif.com at 3:34pm\",\n",
        "         \"From alihaider@yahoo.com at 6:32pm\",\n",
        "         \"From pranav@nielit.com at 5:20pm\",\n",
        "         \"From sunitamehta@redlif.com at 8:00pm\"]\n",
        "list=[]         \n",
        "for mail in mailist:\n",
        "  a=mail.find('@')\n",
        "  b=mail.find(\" \",a+1)\n",
        "  list.append(mail[a+1:b])\n",
        "for i in list:\n",
        "  print(i,\"occurs\",list.count(i)) "
      ],
      "metadata": {
        "colab": {
          "base_uri": "https://localhost:8080/"
        },
        "id": "MeGLJYM1EfVv",
        "outputId": "4bae5e35-f535-4cae-f432-18948f63e97f"
      },
      "execution_count": 55,
      "outputs": [
        {
          "output_type": "stream",
          "name": "stdout",
          "text": [
            "nielit.com occurs 2\n",
            "redlif.com occurs 2\n",
            "yahoo.com occurs 1\n",
            "nielit.com occurs 2\n",
            "redlif.com occurs 2\n"
          ]
        }
      ]
    }
  ]
}