{
  "nbformat": 4,
  "nbformat_minor": 0,
  "metadata": {
    "colab": {
      "provenance": []
    },
    "kernelspec": {
      "name": "python3",
      "display_name": "Python 3"
    },
    "language_info": {
      "name": "python"
    }
  },
  "cells": [
    {
      "cell_type": "code",
      "execution_count": null,
      "metadata": {
        "colab": {
          "base_uri": "https://localhost:8080/"
        },
        "id": "TpLwNScFkcKi",
        "outputId": "074e26c2-5e8d-453d-8846-aa4e4d5bf23e"
      },
      "outputs": [
        {
          "output_type": "stream",
          "name": "stdout",
          "text": [
            "The area of a circle  100\n",
            "The perimeter of a circle  40\n"
          ]
        }
      ],
      "source": [
        "class Rectangle:\n",
        "    def area(self,length,breadth):\n",
        "        return length*breadth;\n",
        "    def perimeter(self,length,breadth):\n",
        "        return 2*(length+breadth)\n",
        "obj=Rectangle()\n",
        "c=obj.area(10,10) # Creating object\n",
        "d=obj.perimeter(10,10)\n",
        "print(\"The area of a circle \",c)\n",
        "print(\"The perimeter of a circle \",d)"
      ]
    },
    {
      "cell_type": "code",
      "source": [
        "class Circle:\n",
        "  def __init__(self,radius):\n",
        "    self.radius=radius\n",
        "  def area(self):\n",
        "    return 3.14*self.radius*self.radius\n",
        "  def circumfrence(self):\n",
        "    return 2*3.14*self.radius\n",
        "c=int(input(\"Enter the radius of a circle\"))\n",
        "figure=Circle(c)\n",
        "print(\"The radius of a circle is set as:\",figure.radius)\n",
        "print(\"The area of a circle:\",figure.area())\n",
        "print(\"The circumfrence of a circle:\",figure.circumfrence())"
      ],
      "metadata": {
        "colab": {
          "base_uri": "https://localhost:8080/"
        },
        "id": "0oreosWlltzL",
        "outputId": "62e3b4fd-cf85-4414-a0f7-4f596808b6d2"
      },
      "execution_count": null,
      "outputs": [
        {
          "output_type": "stream",
          "name": "stdout",
          "text": [
            "Enter the radius of a circle10\n",
            "The radius of a circle is set as: 10\n",
            "The area of a circle: 314.0\n",
            "The circumfrence of a circle: 62.800000000000004\n"
          ]
        }
      ]
    },
    {
      "cell_type": "code",
      "source": [
        "def fact(num):\n",
        "  if(num==1):\n",
        "    return 1\n",
        "  else:\n",
        "    return num*fact(num-1)  \n",
        "c=int(input(\"Enter the number you want to find the factorial \"))\n",
        "result=fact(c)\n",
        "print(\"The factorial of a number is\",result)"
      ],
      "metadata": {
        "colab": {
          "base_uri": "https://localhost:8080/"
        },
        "id": "pEIbYb_FpGQY",
        "outputId": "a3f942db-a3fa-46c3-adc8-a42fffa86efa"
      },
      "execution_count": null,
      "outputs": [
        {
          "output_type": "stream",
          "name": "stdout",
          "text": [
            "Enter the number you want to find the factorial 2\n",
            "The factorial of a number is 2\n"
          ]
        }
      ]
    },
    {
      "cell_type": "code",
      "source": [],
      "metadata": {
        "id": "2XSIWtjhtVWn"
      },
      "execution_count": null,
      "outputs": []
    }
  ]
}