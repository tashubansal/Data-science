{
  "nbformat": 4,
  "nbformat_minor": 0,
  "metadata": {
    "colab": {
      "name": "HackerRank_Logo.ipynb",
      "provenance": [],
      "authorship_tag": "ABX9TyNBqhfTgi8w5kEK/RspnyUo",
      "include_colab_link": true
    },
    "kernelspec": {
      "name": "python3",
      "display_name": "Python 3"
    },
    "language_info": {
      "name": "python"
    }
  },
  "cells": [
    {
      "cell_type": "markdown",
      "metadata": {
        "id": "view-in-github",
        "colab_type": "text"
      },
      "source": [
        "<a href=\"https://colab.research.google.com/github/tashubansal/Data-science/blob/main/HackerRank_Logo.ipynb\" target=\"_parent\"><img src=\"https://colab.research.google.com/assets/colab-badge.svg\" alt=\"Open In Colab\"/></a>"
      ]
    },
    {
      "cell_type": "code",
      "execution_count": 13,
      "metadata": {
        "colab": {
          "base_uri": "https://localhost:8080/"
        },
        "id": "pHOgqNziJADg",
        "outputId": "dc3780d0-4ff7-42c7-9e47-d83b49c95892"
      },
      "outputs": [
        {
          "output_type": "stream",
          "name": "stdout",
          "text": [
            "    H    \n",
            "   HHH   \n",
            "  HHHHH  \n",
            " HHHHHHH \n",
            "HHHHHHHHH\n",
            "  HHHHH            HHHHH          \n",
            "  HHHHH            HHHHH          \n",
            "  HHHHH            HHHHH          \n",
            "  HHHHH            HHHHH          \n",
            "  HHHHH            HHHHH          \n",
            "  HHHHH            HHHHH          \n",
            "  HHHHHHHHHHHHHHHHHHHHHHHHH  \n",
            "  HHHHHHHHHHHHHHHHHHHHHHHHH  \n",
            "  HHHHHHHHHHHHHHHHHHHHHHHHH  \n",
            "  HHHHH            HHHHH          \n",
            "  HHHHH            HHHHH          \n",
            "  HHHHH            HHHHH          \n",
            "  HHHHH            HHHHH          \n",
            "  HHHHH            HHHHH          \n",
            "  HHHHH            HHHHH          \n",
            "                HHHHHHHHH\n",
            "                 HHHHHHH\n",
            "                  HHHHH\n",
            "                   HHH\n",
            "                    H\n"
          ]
        }
      ],
      "source": [
        "print(\"H\".center(9,' '))\n",
        "print(\"HHH\".center(9,' '))\n",
        "print(\"HHHHH\".center(9,' '))  \n",
        "print(\"HHHHHHH\".center(9,' '))\n",
        "print(\"HHHHHHHHH\".center(9,' '))  \n",
        "for i in range(0,6):\n",
        "  print(\"HHHHH\".center(9,' '),end='')\n",
        "  print(\"HHHHH\".center(25,' '))\n",
        "for i in range(0,3):\n",
        "  print(\"HHHHHHHHHHHHHHHHHHHHHHHHH\".center(29,' '))\n",
        "for i in range(0,6):\n",
        "  print(\"HHHHH\".center(9,' '),end='')\n",
        "  print(\"HHHHH\".center(25,' '))  \n",
        "print(\"HHHHHHHHH\".rjust(15+10,' '))\n",
        "print(\"HHHHHHH\".rjust(14+10,' '))  \n",
        "print(\"HHHHH\".rjust(13+10,' ')) \n",
        "print(\"HHH\".rjust(12+10,' '))\n",
        "print(\"H\".rjust(11+10,' '))"
      ]
    }
  ]
}