{
  "nbformat": 4,
  "nbformat_minor": 0,
  "metadata": {
    "colab": {
      "name": "20july(Numpy).ipynb",
      "provenance": [],
      "collapsed_sections": [],
      "authorship_tag": "ABX9TyOjksKIn3bSdcCVNp3L3vwY",
      "include_colab_link": true
    },
    "kernelspec": {
      "name": "python3",
      "display_name": "Python 3"
    },
    "language_info": {
      "name": "python"
    }
  },
  "cells": [
    {
      "cell_type": "markdown",
      "metadata": {
        "id": "view-in-github",
        "colab_type": "text"
      },
      "source": [
        "<a href=\"https://colab.research.google.com/github/tashubansal/Data-science/blob/main/20july(Numpy).ipynb\" target=\"_parent\"><img src=\"https://colab.research.google.com/assets/colab-badge.svg\" alt=\"Open In Colab\"/></a>"
      ]
    },
    {
      "cell_type": "code",
      "execution_count": null,
      "metadata": {
        "id": "FKjKFYg-Dz_7"
      },
      "outputs": [],
      "source": [
        "import numpy as np"
      ]
    },
    {
      "cell_type": "code",
      "source": [
        "n1=np.array([[1,2,3],[6,3,4],[9,1,2],[0,1,3]])\n",
        "print(n1)"
      ],
      "metadata": {
        "colab": {
          "base_uri": "https://localhost:8080/"
        },
        "id": "SqwwNOsCD7un",
        "outputId": "746c2487-5685-4e5b-f5d2-574f061d1aa1"
      },
      "execution_count": null,
      "outputs": [
        {
          "output_type": "stream",
          "name": "stdout",
          "text": [
            "[[1 2 3]\n",
            " [6 3 4]\n",
            " [9 1 2]\n",
            " [0 1 3]]\n"
          ]
        }
      ]
    },
    {
      "cell_type": "code",
      "source": [
        "print(n1.shape)"
      ],
      "metadata": {
        "colab": {
          "base_uri": "https://localhost:8080/"
        },
        "id": "dKlh_t-aEFmQ",
        "outputId": "c57018ca-e440-4a61-8c1a-e2803c82000c"
      },
      "execution_count": null,
      "outputs": [
        {
          "output_type": "stream",
          "name": "stdout",
          "text": [
            "(4, 3)\n"
          ]
        }
      ]
    },
    {
      "cell_type": "code",
      "source": [
        "#Slicing\n",
        "#1.Printing all rows and first column\n",
        "print(n1[:,0])\n",
        "\n",
        "#2.Printing all columns and first row\n",
        "print(n1[0,:])"
      ],
      "metadata": {
        "colab": {
          "base_uri": "https://localhost:8080/"
        },
        "id": "Om9aqGTHEIhB",
        "outputId": "0c1aa923-678e-4afd-cc7d-dd571389eeb8"
      },
      "execution_count": null,
      "outputs": [
        {
          "output_type": "stream",
          "name": "stdout",
          "text": [
            "[1 6 9 0]\n",
            "[1 2 3]\n"
          ]
        }
      ]
    },
    {
      "cell_type": "code",
      "source": [
        "n2=np.array([[45,23,78,34],[35,12,9,6],[67,4,98,12],[43,67,34,2]])\n",
        "print(n2)\n",
        "#printing slicing range from second element of second row to fourth element of third row.\n",
        "# print(n2[[2][1]:[3][3]])\n",
        "# print(n2[2][1],[3][3])"
      ],
      "metadata": {
        "colab": {
          "base_uri": "https://localhost:8080/",
          "height": 269
        },
        "id": "ko30Ju-xESLh",
        "outputId": "a10acdbe-e5ad-42de-80a8-38eb9b70fb04"
      },
      "execution_count": null,
      "outputs": [
        {
          "output_type": "stream",
          "name": "stdout",
          "text": [
            "[[45 23 78 34]\n",
            " [35 12  9  6]\n",
            " [67  4 98 12]\n",
            " [43 67 34  2]]\n"
          ]
        },
        {
          "output_type": "error",
          "ename": "IndexError",
          "evalue": "ignored",
          "traceback": [
            "\u001b[0;31m---------------------------------------------------------------------------\u001b[0m",
            "\u001b[0;31mIndexError\u001b[0m                                Traceback (most recent call last)",
            "\u001b[0;32m<ipython-input-41-e91973749262>\u001b[0m in \u001b[0;36m<module>\u001b[0;34m()\u001b[0m\n\u001b[1;32m      3\u001b[0m \u001b[0;31m#printing slicing range from second element of second row to fourth element of third row.\u001b[0m\u001b[0;34m\u001b[0m\u001b[0;34m\u001b[0m\u001b[0;34m\u001b[0m\u001b[0m\n\u001b[1;32m      4\u001b[0m \u001b[0;31m# print(n2[[2][1]:[3][3]])\u001b[0m\u001b[0;34m\u001b[0m\u001b[0;34m\u001b[0m\u001b[0;34m\u001b[0m\u001b[0m\n\u001b[0;32m----> 5\u001b[0;31m \u001b[0mprint\u001b[0m\u001b[0;34m(\u001b[0m\u001b[0mn2\u001b[0m\u001b[0;34m[\u001b[0m\u001b[0;36m2\u001b[0m\u001b[0;34m]\u001b[0m\u001b[0;34m[\u001b[0m\u001b[0;36m1\u001b[0m\u001b[0;34m]\u001b[0m\u001b[0;34m,\u001b[0m\u001b[0;34m[\u001b[0m\u001b[0;36m3\u001b[0m\u001b[0;34m]\u001b[0m\u001b[0;34m[\u001b[0m\u001b[0;36m3\u001b[0m\u001b[0;34m]\u001b[0m\u001b[0;34m)\u001b[0m\u001b[0;34m\u001b[0m\u001b[0;34m\u001b[0m\u001b[0m\n\u001b[0m",
            "\u001b[0;31mIndexError\u001b[0m: list index out of range"
          ]
        }
      ]
    },
    {
      "cell_type": "code",
      "source": [
        "#Flattened the array\n",
        "n2.ravel()"
      ],
      "metadata": {
        "colab": {
          "base_uri": "https://localhost:8080/"
        },
        "id": "vyu3ErkOF1GB",
        "outputId": "b0a4b180-dffd-4598-a2bd-06898ac7b96b"
      },
      "execution_count": null,
      "outputs": [
        {
          "output_type": "execute_result",
          "data": {
            "text/plain": [
              "array([45, 23, 78, 34, 35, 12,  9,  6, 67,  4, 98, 12, 43, 67, 34,  2])"
            ]
          },
          "metadata": {},
          "execution_count": 20
        }
      ]
    },
    {
      "cell_type": "code",
      "source": [
        "# T returns the transpose of the array i.e. row becomes the column and column becomes the row\n",
        "n2.T"
      ],
      "metadata": {
        "colab": {
          "base_uri": "https://localhost:8080/"
        },
        "id": "m4DZRFtKGPRG",
        "outputId": "2a30ff08-3263-42fc-d1fd-e61d57d4ff89"
      },
      "execution_count": null,
      "outputs": [
        {
          "output_type": "execute_result",
          "data": {
            "text/plain": [
              "array([[45, 35, 67, 43],\n",
              "       [23, 12,  4, 67],\n",
              "       [78,  9, 98, 34],\n",
              "       [34,  6, 12,  2]])"
            ]
          },
          "metadata": {},
          "execution_count": 22
        }
      ]
    },
    {
      "cell_type": "code",
      "source": [
        "B=np.array([[[0,1,2,3],[4,5,6,7],[8,9,10,11]],[[12,13,14,15],[16,17,18,19],[20,21,22,23]]])"
      ],
      "metadata": {
        "id": "0jQSZaTPHg1S"
      },
      "execution_count": null,
      "outputs": []
    },
    {
      "cell_type": "code",
      "source": [
        "print(B)"
      ],
      "metadata": {
        "colab": {
          "base_uri": "https://localhost:8080/"
        },
        "id": "cP8SdUU0PM1m",
        "outputId": "51faf6b3-07eb-4798-8da4-044af6bb6076"
      },
      "execution_count": null,
      "outputs": [
        {
          "output_type": "stream",
          "name": "stdout",
          "text": [
            "[[[ 0  1  2  3]\n",
            "  [ 4  5  6  7]\n",
            "  [ 8  9 10 11]]\n",
            "\n",
            " [[12 13 14 15]\n",
            "  [16 17 18 19]\n",
            "  [20 21 22 23]]]\n"
          ]
        }
      ]
    },
    {
      "cell_type": "code",
      "source": [
        "#when we have 2 dimensional arrays in one array object then B[:-dimensions,:-rows,:-columns]\n",
        "print(B[0,2,1])\n"
      ],
      "metadata": {
        "colab": {
          "base_uri": "https://localhost:8080/"
        },
        "id": "N1Y3UnnWPOh_",
        "outputId": "a739a3ae-e9c0-434a-80a4-6220652fba13"
      },
      "execution_count": null,
      "outputs": [
        {
          "output_type": "stream",
          "name": "stdout",
          "text": [
            "9\n"
          ]
        }
      ]
    },
    {
      "cell_type": "code",
      "source": [
        "#print the first element of each row of both dimensions\n",
        "print(B[:,:,0])"
      ],
      "metadata": {
        "colab": {
          "base_uri": "https://localhost:8080/"
        },
        "id": "wuTVTqlmPX58",
        "outputId": "90406b67-10d1-44c6-e415-4ec6073ae831"
      },
      "execution_count": null,
      "outputs": [
        {
          "output_type": "stream",
          "name": "stdout",
          "text": [
            "[[ 0  4  8]\n",
            " [12 16 20]]\n"
          ]
        }
      ]
    },
    {
      "cell_type": "code",
      "source": [
        "#print the last element of first row of first dimension.\n",
        "print(B[0,0,3])\n",
        "#print the last element of first row of second dimension.\n",
        "print(B[1,0,3])"
      ],
      "metadata": {
        "colab": {
          "base_uri": "https://localhost:8080/"
        },
        "id": "-ttom4hRRxZi",
        "outputId": "16601af7-a15c-4221-e100-1c0abac5ce91"
      },
      "execution_count": null,
      "outputs": [
        {
          "output_type": "stream",
          "name": "stdout",
          "text": [
            "3\n",
            "15\n"
          ]
        }
      ]
    },
    {
      "cell_type": "code",
      "source": [
        "#print all elements of second dimension\n",
        "print(B[1,:,:])\n",
        "\n",
        "#The dots(...) represents as many as colons as needed to produce a complete indexing tuple.\n",
        "print(B[1,...]) #represents second dimension and all rows + columns\n",
        "print(B[...,1]) #represents all dimensions all rows first column"
      ],
      "metadata": {
        "colab": {
          "base_uri": "https://localhost:8080/"
        },
        "id": "G6YZXCgsSDi3",
        "outputId": "b198576d-2e44-41ac-e59c-e1a5d9398eae"
      },
      "execution_count": null,
      "outputs": [
        {
          "output_type": "stream",
          "name": "stdout",
          "text": [
            "[[12 13 14 15]\n",
            " [16 17 18 19]\n",
            " [20 21 22 23]]\n",
            "[[12 13 14 15]\n",
            " [16 17 18 19]\n",
            " [20 21 22 23]]\n",
            "[[ 1  5  9]\n",
            " [13 17 21]]\n"
          ]
        }
      ]
    },
    {
      "cell_type": "code",
      "source": [
        "for i in B.flat:\n",
        "  print(i,end=\" \")"
      ],
      "metadata": {
        "colab": {
          "base_uri": "https://localhost:8080/"
        },
        "id": "Q6RsF3JsTCSy",
        "outputId": "a072be58-cdee-4954-9baf-688688fa29cb"
      },
      "execution_count": null,
      "outputs": [
        {
          "output_type": "stream",
          "name": "stdout",
          "text": [
            "0 1 2 3 4 5 6 7 8 9 10 11 12 13 14 15 16 17 18 19 20 21 22 23 "
          ]
        }
      ]
    },
    {
      "cell_type": "code",
      "source": [
        "print(B.flat)"
      ],
      "metadata": {
        "colab": {
          "base_uri": "https://localhost:8080/"
        },
        "id": "EojgDWSyaG4a",
        "outputId": "920e3252-f141-4be8-b37b-9ecf52c7cbd6"
      },
      "execution_count": null,
      "outputs": [
        {
          "output_type": "stream",
          "name": "stdout",
          "text": [
            "<numpy.flatiter object at 0x32ca200>\n"
          ]
        }
      ]
    },
    {
      "cell_type": "code",
      "source": [
        "#Slice is a view-->It means changing the value in slice of array will change the original array\n",
        "arr=np.array([[1,2,3,4],[5,6,7,8],[9,10,11,12]])\n",
        "print(arr)"
      ],
      "metadata": {
        "colab": {
          "base_uri": "https://localhost:8080/"
        },
        "id": "ZsdIH13MauEX",
        "outputId": "07e55d33-b3a8-4ef5-8ff7-a7d1746ad7ca"
      },
      "execution_count": null,
      "outputs": [
        {
          "output_type": "stream",
          "name": "stdout",
          "text": [
            "[[ 1  2  3  4]\n",
            " [ 5  6  7  8]\n",
            " [ 9 10 11 12]]\n"
          ]
        }
      ]
    },
    {
      "cell_type": "code",
      "source": [
        "arr1=arr[1:2,1:]\n",
        "#arr1 is a two dimensional array\n",
        "print(arr1)"
      ],
      "metadata": {
        "colab": {
          "base_uri": "https://localhost:8080/"
        },
        "id": "GVU-g-NgcAwn",
        "outputId": "9bddad07-9a23-4db7-e9f5-2372809c74a7"
      },
      "execution_count": null,
      "outputs": [
        {
          "output_type": "stream",
          "name": "stdout",
          "text": [
            "[[6 7 8]]\n"
          ]
        }
      ]
    },
    {
      "cell_type": "code",
      "source": [
        "arr1[0][1]=55\n",
        "print(arr1)"
      ],
      "metadata": {
        "colab": {
          "base_uri": "https://localhost:8080/"
        },
        "id": "9jgFfkzlcGk4",
        "outputId": "a216249c-1654-4c36-dffc-4b623aa5eea1"
      },
      "execution_count": null,
      "outputs": [
        {
          "output_type": "stream",
          "name": "stdout",
          "text": [
            "[[ 6 55  8]]\n"
          ]
        }
      ]
    },
    {
      "cell_type": "code",
      "source": [
        "#when the value in the slice has been changed the original value will also make chnages\n",
        "print(arr)"
      ],
      "metadata": {
        "colab": {
          "base_uri": "https://localhost:8080/"
        },
        "id": "8gT_1KIfcTdC",
        "outputId": "2a91e48b-439f-469f-f0df-0c8359651dc6"
      },
      "execution_count": null,
      "outputs": [
        {
          "output_type": "stream",
          "name": "stdout",
          "text": [
            "[[ 1  2  3  4]\n",
            " [ 5  6 55  8]\n",
            " [ 9 10 11 12]]\n"
          ]
        }
      ]
    },
    {
      "cell_type": "markdown",
      "source": [
        "RANDOM NUMBERS USING NUMPY"
      ],
      "metadata": {
        "id": "Jx6ufpYFd5r4"
      }
    },
    {
      "cell_type": "code",
      "source": [
        "from numpy import random"
      ],
      "metadata": {
        "id": "VunWFnw6cVJK"
      },
      "execution_count": null,
      "outputs": []
    },
    {
      "cell_type": "code",
      "source": [
        "#Random module has many functions like randit,rand,random\n",
        "#rand method will generate float number from 0 to 1\n",
        "x=np.random.random()\n",
        "print(x)\n",
        "#there is no difference between random and rand\n",
        "y=np.random.rand()\n",
        "print(y)\n",
        "#to generate integer between 0 to the number given as argument\n",
        "z=np.random.randint(4)\n",
        "print(z)\n",
        "\n",
        "\n",
        "#The output of the above code will be different every time."
      ],
      "metadata": {
        "colab": {
          "base_uri": "https://localhost:8080/"
        },
        "id": "8Ian2JA_eBu0",
        "outputId": "0456a86b-ef7e-4941-fbc9-ec98112f6e7b"
      },
      "execution_count": null,
      "outputs": [
        {
          "output_type": "stream",
          "name": "stdout",
          "text": [
            "0.41809072894066857\n",
            "0.7306421084497541\n",
            "3\n"
          ]
        }
      ]
    },
    {
      "cell_type": "code",
      "source": [
        "#Random module is also used to generate the array.\n",
        "arr=np.random.random(size=(2,1)) #2 rows 1 column\n",
        "print(arr)\n",
        "\n",
        "arr2=np.random.random(size=5)\n",
        "print(arr2)\n",
        "print(type(arr2))"
      ],
      "metadata": {
        "colab": {
          "base_uri": "https://localhost:8080/"
        },
        "id": "AH7kc8kpeWQL",
        "outputId": "e1f357ca-820f-4a4e-ddf8-41e9639fecaf"
      },
      "execution_count": null,
      "outputs": [
        {
          "output_type": "stream",
          "name": "stdout",
          "text": [
            "[[0.56485316]\n",
            " [0.84062694]]\n",
            "[0.56174406 0.27399169 0.48006598 0.19296825 0.44388287]\n",
            "<class 'numpy.ndarray'>\n"
          ]
        }
      ]
    },
    {
      "cell_type": "code",
      "source": [
        "arr3=np.random.randint(100,size=(5,5))\n",
        "print(arr3)"
      ],
      "metadata": {
        "colab": {
          "base_uri": "https://localhost:8080/"
        },
        "id": "4Z5odd59fuXw",
        "outputId": "26dbfd6c-d414-4206-9a38-fb70440294d4"
      },
      "execution_count": null,
      "outputs": [
        {
          "output_type": "stream",
          "name": "stdout",
          "text": [
            "[[ 2  3 68 12 29]\n",
            " [60 19 72 69 27]\n",
            " [ 5 45 92 10 14]\n",
            " [54 50 23 22 52]\n",
            " [47 43 81 57 46]]\n"
          ]
        }
      ]
    },
    {
      "cell_type": "code",
      "source": [
        "a=np.floor(10*np.random.random((2,2)))\n",
        "b=np.floor(20*np.random.random((2,2)))\n",
        "print(a)\n",
        "print(b)"
      ],
      "metadata": {
        "colab": {
          "base_uri": "https://localhost:8080/"
        },
        "id": "rrSKRtjzgFRF",
        "outputId": "e46d85d1-63d2-44c5-8db9-43dab312f303"
      },
      "execution_count": null,
      "outputs": [
        {
          "output_type": "stream",
          "name": "stdout",
          "text": [
            "[[7. 3.]\n",
            " [5. 2.]]\n",
            "[[ 4.  9.]\n",
            " [ 1. 13.]]\n"
          ]
        }
      ]
    },
    {
      "cell_type": "code",
      "source": [
        "np.hstack((a,b))"
      ],
      "metadata": {
        "colab": {
          "base_uri": "https://localhost:8080/"
        },
        "id": "Btc3tOjJgz4j",
        "outputId": "c4d10fd4-a077-47c4-db84-e8d1039fa259"
      },
      "execution_count": null,
      "outputs": [
        {
          "output_type": "execute_result",
          "data": {
            "text/plain": [
              "array([[ 7.,  3.,  4.,  9.],\n",
              "       [ 5.,  2.,  1., 13.]])"
            ]
          },
          "metadata": {},
          "execution_count": 67
        }
      ]
    },
    {
      "cell_type": "code",
      "source": [
        "np.vstack((a,b))"
      ],
      "metadata": {
        "colab": {
          "base_uri": "https://localhost:8080/"
        },
        "id": "xISYjeNPg5bY",
        "outputId": "e4dcfdb0-8be8-4c20-d41e-5b7b86a2d2c3"
      },
      "execution_count": null,
      "outputs": [
        {
          "output_type": "execute_result",
          "data": {
            "text/plain": [
              "array([[ 7.,  3.],\n",
              "       [ 5.,  2.],\n",
              "       [ 4.,  9.],\n",
              "       [ 1., 13.]])"
            ]
          },
          "metadata": {},
          "execution_count": 68
        }
      ]
    },
    {
      "cell_type": "code",
      "source": [
        ""
      ],
      "metadata": {
        "id": "puGIPvxkhEhH"
      },
      "execution_count": null,
      "outputs": []
    }
  ]
}