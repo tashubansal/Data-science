{
  "nbformat": 4,
  "nbformat_minor": 0,
  "metadata": {
    "colab": {
      "name": "Door_Mat_Design.ipynb",
      "provenance": [],
      "authorship_tag": "ABX9TyOW+p4XWsm2jxccu9qshrq8",
      "include_colab_link": true
    },
    "kernelspec": {
      "name": "python3",
      "display_name": "Python 3"
    },
    "language_info": {
      "name": "python"
    }
  },
  "cells": [
    {
      "cell_type": "markdown",
      "metadata": {
        "id": "view-in-github",
        "colab_type": "text"
      },
      "source": [
        "<a href=\"https://colab.research.google.com/github/tashubansal/Data-science/blob/main/Door_Mat_Design.ipynb\" target=\"_parent\"><img src=\"https://colab.research.google.com/assets/colab-badge.svg\" alt=\"Open In Colab\"/></a>"
      ]
    },
    {
      "cell_type": "markdown",
      "source": [
        "#Let's us make a various Mat-Designs:"
      ],
      "metadata": {
        "id": "T0rsJRf5dirP"
      }
    },
    {
      "cell_type": "code",
      "execution_count": 32,
      "metadata": {
        "colab": {
          "base_uri": "https://localhost:8080/"
        },
        "id": "Nt2eFOy9VZCw",
        "outputId": "a6d4ec2d-9900-48b9-99da-968e25b93316"
      },
      "outputs": [
        {
          "output_type": "stream",
          "name": "stdout",
          "text": [
            "Enter the number of rows:11\n",
            "Enter the number of columns:33\n",
            "---------------.|.---------------\n",
            "------------.|..|..|.------------\n",
            "---------.|..|..|..|..|.---------\n",
            "------.|..|..|..|..|..|..|.------\n",
            "---.|..|..|..|..|..|..|..|..|.---\n",
            "-------------WElCOME-------------\n",
            "---.|..|..|..|..|..|..|..|..|.---\n",
            "------.|..|..|..|..|..|..|.------\n",
            "---------.|..|..|..|..|.---------\n",
            "------------.|..|..|.------------\n",
            "---------------.|.---------------\n"
          ]
        }
      ],
      "source": [
        "n=int(input(\"Enter the number of rows:\"))\n",
        "m=int(input(\"Enter the number of columns:\"))\n",
        "a=\".|.\"\n",
        "for i in range(0,n+1):\n",
        "  a=(2*i+1)*a\n",
        "  if(i==(n//2)):\n",
        "    print(\"WElCOME\".center(m,'-'))\n",
        "    break\n",
        "  else:  \n",
        "    print(a.center(m,'-'))\n",
        "    a=\".|.\"\n",
        "a=\".|.\"    \n",
        "for i in range(n//2,0,-1):\n",
        "  a=(2*i-1)*a\n",
        "  print(a.center(m,'-'))\n",
        "  a=\".|.\""
      ]
    },
    {
      "cell_type": "code",
      "source": [
        "n=int(input(\"Enter the number of rows:\"))\n",
        "m=int(input(\"Enter the number of columns:\"))\n",
        "a=\".|.\"\n",
        "for i in range(0,n+1):\n",
        "  a=(2*i+1)*a\n",
        "  if(i==(n//2)):\n",
        "    print(\"WElCOME\".center(m,'-'))\n",
        "    break\n",
        "  else:  \n",
        "    print(a.center(m,'-'))\n",
        "    a=\".|.\"\n",
        "a=\".|.\"    \n",
        "for i in range(n//2,0,-1):\n",
        "  a=(2*i-1)*a\n",
        "  print(a.center(m,'-'))\n",
        "  a=\".|.\""
      ],
      "metadata": {
        "colab": {
          "base_uri": "https://localhost:8080/"
        },
        "id": "qBXa55SzV2T8",
        "outputId": "d79dbb5b-82af-4d6f-a6bc-ae6e0b9b747e"
      },
      "execution_count": 31,
      "outputs": [
        {
          "output_type": "stream",
          "name": "stdout",
          "text": [
            "Enter the number of rows:7\n",
            "Enter the number of columns:21\n",
            "---------.|.---------\n",
            "------.|..|..|.------\n",
            "---.|..|..|..|..|.---\n",
            "-------WElCOME-------\n",
            "---.|..|..|..|..|.---\n",
            "------.|..|..|.------\n",
            "---------.|.---------\n"
          ]
        }
      ]
    },
    {
      "cell_type": "code",
      "source": [
        "n=int(input(\"Enter the number of rows:\"))\n",
        "m=int(input(\"Enter the number of columns:\"))\n",
        "a=\".|.\"\n",
        "for i in range(0,n+1):\n",
        "  a=(2*i+1)*a\n",
        "  if(i==(n//2)):\n",
        "    print(\"WElCOME\".center(m,'-'))\n",
        "    break\n",
        "  else:  \n",
        "    print(a.center(m,'-'))\n",
        "    a=\".|.\"\n",
        "a=\".|.\"    \n",
        "for i in range(n//2,0,-1):\n",
        "  a=(2*i-1)*a\n",
        "  print(a.center(m,'-'))\n",
        "  a=\".|.\""
      ],
      "metadata": {
        "colab": {
          "base_uri": "https://localhost:8080/"
        },
        "id": "hzpeUNKYYDkD",
        "outputId": "e3f7d352-e8f9-478b-b357-680445a9639b"
      },
      "execution_count": 33,
      "outputs": [
        {
          "output_type": "stream",
          "name": "stdout",
          "text": [
            "Enter the number of rows:9\n",
            "Enter the number of columns:27\n",
            "------------.|.------------\n",
            "---------.|..|..|.---------\n",
            "------.|..|..|..|..|.------\n",
            "---.|..|..|..|..|..|..|.---\n",
            "----------WElCOME----------\n",
            "---.|..|..|..|..|..|..|.---\n",
            "------.|..|..|..|..|.------\n",
            "---------.|..|..|.---------\n",
            "------------.|.------------\n"
          ]
        }
      ]
    },
    {
      "cell_type": "code",
      "source": [
        ""
      ],
      "metadata": {
        "id": "NeumXrbvda0r"
      },
      "execution_count": 33,
      "outputs": []
    }
  ]
}